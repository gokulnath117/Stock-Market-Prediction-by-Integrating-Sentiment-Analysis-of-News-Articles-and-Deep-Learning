{
 "cells": [
  {
   "cell_type": "code",
   "execution_count": 1,
   "id": "02c427fe",
   "metadata": {},
   "outputs": [
    {
     "name": "stderr",
     "output_type": "stream",
     "text": [
      "[nltk_data] Error loading stopwords: <urlopen error [WinError 10060] A\n",
      "[nltk_data]     connection attempt failed because the connected party\n",
      "[nltk_data]     did not properly respond after a period of time, or\n",
      "[nltk_data]     established connection failed because connected host\n",
      "[nltk_data]     has failed to respond>\n",
      "[nltk_data] Error loading vader_lexicon: <urlopen error [WinError\n",
      "[nltk_data]     10060] A connection attempt failed because the\n",
      "[nltk_data]     connected party did not properly respond after a\n",
      "[nltk_data]     period of time, or established connection failed\n",
      "[nltk_data]     because connected host has failed to respond>\n"
     ]
    }
   ],
   "source": [
    "import os\n",
    "import warnings\n",
    "warnings.filterwarnings('ignore')\n",
    "import pandas as pd\n",
    "import numpy as np\n",
    "import matplotlib.pyplot as plt\n",
    "import itertools\n",
    "from statsmodels.tsa.stattools import adfuller, acf, pacf\n",
    "from statsmodels.tsa.arima_model import ARIMA\n",
    "import nltk\n",
    "import re\n",
    "from nltk.corpus import stopwords\n",
    "nltk.download('stopwords')\n",
    "nltk.download('vader_lexicon')\n",
    "from textblob import TextBlob\n",
    "from nltk.sentiment.vader import SentimentIntensityAnalyzer\n",
    "from nltk.stem.porter import PorterStemmer\n",
    "from sklearn.metrics import mean_squared_error\n",
    "from sklearn.model_selection import train_test_split\n",
    "from sklearn.ensemble import RandomForestRegressor\n",
    "import xgboost \n",
    "import lightgbm "
   ]
  },
  {
   "cell_type": "code",
   "execution_count": 2,
   "id": "976c546f",
   "metadata": {},
   "outputs": [
    {
     "data": {
      "text/html": [
       "<div>\n",
       "<style scoped>\n",
       "    .dataframe tbody tr th:only-of-type {\n",
       "        vertical-align: middle;\n",
       "    }\n",
       "\n",
       "    .dataframe tbody tr th {\n",
       "        vertical-align: top;\n",
       "    }\n",
       "\n",
       "    .dataframe thead th {\n",
       "        text-align: right;\n",
       "    }\n",
       "</style>\n",
       "<table border=\"1\" class=\"dataframe\">\n",
       "  <thead>\n",
       "    <tr style=\"text-align: right;\">\n",
       "      <th></th>\n",
       "      <th>publish_date</th>\n",
       "      <th>headline_category</th>\n",
       "      <th>headline_text</th>\n",
       "    </tr>\n",
       "  </thead>\n",
       "  <tbody>\n",
       "    <tr>\n",
       "      <th>0</th>\n",
       "      <td>20010102</td>\n",
       "      <td>unknown</td>\n",
       "      <td>Status quo will not be disturbed at Ayodhya; s...</td>\n",
       "    </tr>\n",
       "    <tr>\n",
       "      <th>1</th>\n",
       "      <td>20010102</td>\n",
       "      <td>unknown</td>\n",
       "      <td>Fissures in Hurriyat over Pak visit</td>\n",
       "    </tr>\n",
       "    <tr>\n",
       "      <th>2</th>\n",
       "      <td>20010102</td>\n",
       "      <td>unknown</td>\n",
       "      <td>America's unwanted heading for India?</td>\n",
       "    </tr>\n",
       "    <tr>\n",
       "      <th>3</th>\n",
       "      <td>20010102</td>\n",
       "      <td>unknown</td>\n",
       "      <td>For bigwigs; it is destination Goa</td>\n",
       "    </tr>\n",
       "    <tr>\n",
       "      <th>4</th>\n",
       "      <td>20010102</td>\n",
       "      <td>unknown</td>\n",
       "      <td>Extra buses to clear tourist traffic</td>\n",
       "    </tr>\n",
       "  </tbody>\n",
       "</table>\n",
       "</div>"
      ],
      "text/plain": [
       "   publish_date headline_category  \\\n",
       "0      20010102           unknown   \n",
       "1      20010102           unknown   \n",
       "2      20010102           unknown   \n",
       "3      20010102           unknown   \n",
       "4      20010102           unknown   \n",
       "\n",
       "                                       headline_text  \n",
       "0  Status quo will not be disturbed at Ayodhya; s...  \n",
       "1                Fissures in Hurriyat over Pak visit  \n",
       "2              America's unwanted heading for India?  \n",
       "3                 For bigwigs; it is destination Goa  \n",
       "4               Extra buses to clear tourist traffic  "
      ]
     },
     "execution_count": 2,
     "metadata": {},
     "output_type": "execute_result"
    }
   ],
   "source": [
    "df_text = pd.read_csv(\"C:/Users/Gokul nath/Downloads/india-news-headlines.csv\")\n",
    "df_text.head()"
   ]
  },
  {
   "cell_type": "code",
   "execution_count": 3,
   "id": "e60b4711",
   "metadata": {},
   "outputs": [
    {
     "data": {
      "text/html": [
       "<div>\n",
       "<style scoped>\n",
       "    .dataframe tbody tr th:only-of-type {\n",
       "        vertical-align: middle;\n",
       "    }\n",
       "\n",
       "    .dataframe tbody tr th {\n",
       "        vertical-align: top;\n",
       "    }\n",
       "\n",
       "    .dataframe thead th {\n",
       "        text-align: right;\n",
       "    }\n",
       "</style>\n",
       "<table border=\"1\" class=\"dataframe\">\n",
       "  <thead>\n",
       "    <tr style=\"text-align: right;\">\n",
       "      <th></th>\n",
       "      <th>publish_date</th>\n",
       "      <th>headline_text</th>\n",
       "    </tr>\n",
       "  </thead>\n",
       "  <tbody>\n",
       "    <tr>\n",
       "      <th>1</th>\n",
       "      <td>20010102</td>\n",
       "      <td>Fissures in Hurriyat over Pak visit</td>\n",
       "    </tr>\n",
       "    <tr>\n",
       "      <th>2</th>\n",
       "      <td>20010102</td>\n",
       "      <td>America's unwanted heading for India?</td>\n",
       "    </tr>\n",
       "    <tr>\n",
       "      <th>3</th>\n",
       "      <td>20010102</td>\n",
       "      <td>For bigwigs; it is destination Goa</td>\n",
       "    </tr>\n",
       "    <tr>\n",
       "      <th>4</th>\n",
       "      <td>20010102</td>\n",
       "      <td>Extra buses to clear tourist traffic</td>\n",
       "    </tr>\n",
       "    <tr>\n",
       "      <th>5</th>\n",
       "      <td>20010102</td>\n",
       "      <td>Dilute the power of transfers; says Riberio</td>\n",
       "    </tr>\n",
       "  </tbody>\n",
       "</table>\n",
       "</div>"
      ],
      "text/plain": [
       "   publish_date                                headline_text\n",
       "1      20010102          Fissures in Hurriyat over Pak visit\n",
       "2      20010102        America's unwanted heading for India?\n",
       "3      20010102           For bigwigs; it is destination Goa\n",
       "4      20010102         Extra buses to clear tourist traffic\n",
       "5      20010102  Dilute the power of transfers; says Riberio"
      ]
     },
     "execution_count": 3,
     "metadata": {},
     "output_type": "execute_result"
    }
   ],
   "source": [
    "df_text.drop(0, inplace=True)\n",
    "df_text.drop('headline_category', axis = 1, inplace=True)\n",
    "df_text.head()"
   ]
  },
  {
   "cell_type": "code",
   "execution_count": 4,
   "id": "4f1bc975",
   "metadata": {},
   "outputs": [
    {
     "name": "stdout",
     "output_type": "stream",
     "text": [
      "<class 'pandas.core.frame.DataFrame'>\n",
      "RangeIndex: 3650969 entries, 1 to 3650969\n",
      "Data columns (total 2 columns):\n",
      " #   Column         Dtype         \n",
      "---  ------         -----         \n",
      " 0   publish_date   datetime64[ns]\n",
      " 1   headline_text  object        \n",
      "dtypes: datetime64[ns](1), object(1)\n",
      "memory usage: 55.7+ MB\n"
     ]
    }
   ],
   "source": [
    "df_text[\"publish_date\"] = pd.to_datetime(df_text[\"publish_date\"],format='%Y%m%d')\n",
    "df_text.info()"
   ]
  },
  {
   "cell_type": "code",
   "execution_count": 5,
   "id": "157ee37a",
   "metadata": {},
   "outputs": [
    {
     "data": {
      "text/plain": [
       "(3650969, 2)"
      ]
     },
     "execution_count": 5,
     "metadata": {},
     "output_type": "execute_result"
    }
   ],
   "source": [
    "df_text.shape"
   ]
  },
  {
   "cell_type": "code",
   "execution_count": 6,
   "id": "cf261372",
   "metadata": {},
   "outputs": [
    {
     "data": {
      "text/plain": [
       "publish_date     0\n",
       "headline_text    0\n",
       "dtype: int64"
      ]
     },
     "execution_count": 6,
     "metadata": {},
     "output_type": "execute_result"
    }
   ],
   "source": [
    "df_text.isnull().sum()"
   ]
  },
  {
   "cell_type": "code",
   "execution_count": 7,
   "id": "37129a6d",
   "metadata": {},
   "outputs": [
    {
     "data": {
      "text/plain": [
       "7717"
      ]
     },
     "execution_count": 7,
     "metadata": {},
     "output_type": "execute_result"
    }
   ],
   "source": [
    "df_text['headline_text'] = df_text.groupby(['publish_date']).transform(lambda x : ' '.join(x)) \n",
    "df_text = df_text.drop_duplicates() \n",
    "len(df_text)"
   ]
  },
  {
   "cell_type": "code",
   "execution_count": 8,
   "id": "9433185b",
   "metadata": {},
   "outputs": [
    {
     "data": {
      "text/html": [
       "<div>\n",
       "<style scoped>\n",
       "    .dataframe tbody tr th:only-of-type {\n",
       "        vertical-align: middle;\n",
       "    }\n",
       "\n",
       "    .dataframe tbody tr th {\n",
       "        vertical-align: top;\n",
       "    }\n",
       "\n",
       "    .dataframe thead th {\n",
       "        text-align: right;\n",
       "    }\n",
       "</style>\n",
       "<table border=\"1\" class=\"dataframe\">\n",
       "  <thead>\n",
       "    <tr style=\"text-align: right;\">\n",
       "      <th></th>\n",
       "      <th>publish_date</th>\n",
       "      <th>headline_text</th>\n",
       "    </tr>\n",
       "  </thead>\n",
       "  <tbody>\n",
       "    <tr>\n",
       "      <th>1</th>\n",
       "      <td>2001-01-02</td>\n",
       "      <td>Fissures in Hurriyat over Pak visit America's ...</td>\n",
       "    </tr>\n",
       "    <tr>\n",
       "      <th>86</th>\n",
       "      <td>2001-01-03</td>\n",
       "      <td>Powerless north India gropes in the dark Think...</td>\n",
       "    </tr>\n",
       "    <tr>\n",
       "      <th>127</th>\n",
       "      <td>2001-01-04</td>\n",
       "      <td>The string that pulled Stephen Hawking to Indi...</td>\n",
       "    </tr>\n",
       "    <tr>\n",
       "      <th>280</th>\n",
       "      <td>2001-01-05</td>\n",
       "      <td>Light combat craft takes India into club class...</td>\n",
       "    </tr>\n",
       "    <tr>\n",
       "      <th>406</th>\n",
       "      <td>2001-01-06</td>\n",
       "      <td>Light combat craft takes India into club class...</td>\n",
       "    </tr>\n",
       "    <tr>\n",
       "      <th>...</th>\n",
       "      <td>...</td>\n",
       "      <td>...</td>\n",
       "    </tr>\n",
       "    <tr>\n",
       "      <th>3645983</th>\n",
       "      <td>2022-03-22</td>\n",
       "      <td>Sikta MLA pleads for police reform Ronit Bose ...</td>\n",
       "    </tr>\n",
       "    <tr>\n",
       "      <th>3646479</th>\n",
       "      <td>2022-03-23</td>\n",
       "      <td>Megha Shetty begins a new phase in her career ...</td>\n",
       "    </tr>\n",
       "    <tr>\n",
       "      <th>3646979</th>\n",
       "      <td>2022-03-24</td>\n",
       "      <td>This all-woman rap group is claiming their spa...</td>\n",
       "    </tr>\n",
       "    <tr>\n",
       "      <th>3647476</th>\n",
       "      <td>2022-03-25</td>\n",
       "      <td>Speeding up; shortcuts and tackling unruly cus...</td>\n",
       "    </tr>\n",
       "    <tr>\n",
       "      <th>3647974</th>\n",
       "      <td>2022-03-26</td>\n",
       "      <td>Mumbai celebrates World Theatre Day with speci...</td>\n",
       "    </tr>\n",
       "  </tbody>\n",
       "</table>\n",
       "<p>7712 rows × 2 columns</p>\n",
       "</div>"
      ],
      "text/plain": [
       "        publish_date                                      headline_text\n",
       "1         2001-01-02  Fissures in Hurriyat over Pak visit America's ...\n",
       "86        2001-01-03  Powerless north India gropes in the dark Think...\n",
       "127       2001-01-04  The string that pulled Stephen Hawking to Indi...\n",
       "280       2001-01-05  Light combat craft takes India into club class...\n",
       "406       2001-01-06  Light combat craft takes India into club class...\n",
       "...              ...                                                ...\n",
       "3645983   2022-03-22  Sikta MLA pleads for police reform Ronit Bose ...\n",
       "3646479   2022-03-23  Megha Shetty begins a new phase in her career ...\n",
       "3646979   2022-03-24  This all-woman rap group is claiming their spa...\n",
       "3647476   2022-03-25  Speeding up; shortcuts and tackling unruly cus...\n",
       "3647974   2022-03-26  Mumbai celebrates World Theatre Day with speci...\n",
       "\n",
       "[7712 rows x 2 columns]"
      ]
     },
     "execution_count": 8,
     "metadata": {},
     "output_type": "execute_result"
    }
   ],
   "source": [
    "df_text.head(-5)"
   ]
  },
  {
   "cell_type": "code",
   "execution_count": 9,
   "id": "d189c5e0",
   "metadata": {},
   "outputs": [
    {
     "data": {
      "text/html": [
       "<div>\n",
       "<style scoped>\n",
       "    .dataframe tbody tr th:only-of-type {\n",
       "        vertical-align: middle;\n",
       "    }\n",
       "\n",
       "    .dataframe tbody tr th {\n",
       "        vertical-align: top;\n",
       "    }\n",
       "\n",
       "    .dataframe thead th {\n",
       "        text-align: right;\n",
       "    }\n",
       "</style>\n",
       "<table border=\"1\" class=\"dataframe\">\n",
       "  <thead>\n",
       "    <tr style=\"text-align: right;\">\n",
       "      <th></th>\n",
       "      <th>publish_date</th>\n",
       "      <th>headline_text</th>\n",
       "    </tr>\n",
       "  </thead>\n",
       "  <tbody>\n",
       "    <tr>\n",
       "      <th>1</th>\n",
       "      <td>2001-01-02</td>\n",
       "      <td>Fissures in Hurriyat over Pak visit America's ...</td>\n",
       "    </tr>\n",
       "    <tr>\n",
       "      <th>86</th>\n",
       "      <td>2001-01-03</td>\n",
       "      <td>Powerless north India gropes in the dark Think...</td>\n",
       "    </tr>\n",
       "    <tr>\n",
       "      <th>127</th>\n",
       "      <td>2001-01-04</td>\n",
       "      <td>The string that pulled Stephen Hawking to Indi...</td>\n",
       "    </tr>\n",
       "    <tr>\n",
       "      <th>280</th>\n",
       "      <td>2001-01-05</td>\n",
       "      <td>Light combat craft takes India into club class...</td>\n",
       "    </tr>\n",
       "    <tr>\n",
       "      <th>406</th>\n",
       "      <td>2001-01-06</td>\n",
       "      <td>Light combat craft takes India into club class...</td>\n",
       "    </tr>\n",
       "    <tr>\n",
       "      <th>...</th>\n",
       "      <td>...</td>\n",
       "      <td>...</td>\n",
       "    </tr>\n",
       "    <tr>\n",
       "      <th>3648472</th>\n",
       "      <td>2022-03-27</td>\n",
       "      <td>Playing a dead man in Body God meant sitting i...</td>\n",
       "    </tr>\n",
       "    <tr>\n",
       "      <th>3648972</th>\n",
       "      <td>2022-03-28</td>\n",
       "      <td>As fashion becomes democratic; demand for styl...</td>\n",
       "    </tr>\n",
       "    <tr>\n",
       "      <th>3649472</th>\n",
       "      <td>2022-03-29</td>\n",
       "      <td>Bobby Deol: Like my dad; I hope to be working ...</td>\n",
       "    </tr>\n",
       "    <tr>\n",
       "      <th>3649972</th>\n",
       "      <td>2022-03-30</td>\n",
       "      <td>I will not give in to trends: Dossmode The tim...</td>\n",
       "    </tr>\n",
       "    <tr>\n",
       "      <th>3650472</th>\n",
       "      <td>2022-03-31</td>\n",
       "      <td>Shashank goes back to coastal Karnataka and Mo...</td>\n",
       "    </tr>\n",
       "  </tbody>\n",
       "</table>\n",
       "<p>7717 rows × 2 columns</p>\n",
       "</div>"
      ],
      "text/plain": [
       "        publish_date                                      headline_text\n",
       "1         2001-01-02  Fissures in Hurriyat over Pak visit America's ...\n",
       "86        2001-01-03  Powerless north India gropes in the dark Think...\n",
       "127       2001-01-04  The string that pulled Stephen Hawking to Indi...\n",
       "280       2001-01-05  Light combat craft takes India into club class...\n",
       "406       2001-01-06  Light combat craft takes India into club class...\n",
       "...              ...                                                ...\n",
       "3648472   2022-03-27  Playing a dead man in Body God meant sitting i...\n",
       "3648972   2022-03-28  As fashion becomes democratic; demand for styl...\n",
       "3649472   2022-03-29  Bobby Deol: Like my dad; I hope to be working ...\n",
       "3649972   2022-03-30  I will not give in to trends: Dossmode The tim...\n",
       "3650472   2022-03-31  Shashank goes back to coastal Karnataka and Mo...\n",
       "\n",
       "[7717 rows x 2 columns]"
      ]
     },
     "execution_count": 9,
     "metadata": {},
     "output_type": "execute_result"
    }
   ],
   "source": [
    "df_text"
   ]
  },
  {
   "cell_type": "code",
   "execution_count": 9,
   "id": "afb61955",
   "metadata": {},
   "outputs": [],
   "source": [
    "df_text.reset_index(inplace=True,drop=True)"
   ]
  },
  {
   "cell_type": "code",
   "execution_count": 10,
   "id": "1a69f990",
   "metadata": {},
   "outputs": [
    {
     "data": {
      "text/plain": [
       "0    Fissures in Hurriyat over Pak visit America's ...\n",
       "1    Powerless north India gropes in the dark Think...\n",
       "2    The string that pulled Stephen Hawking to Indi...\n",
       "3    Light combat craft takes India into club class...\n",
       "4    Light combat craft takes India into club class...\n",
       "Name: headline_text, dtype: object"
      ]
     },
     "execution_count": 10,
     "metadata": {},
     "output_type": "execute_result"
    }
   ],
   "source": [
    "df_text.replace(\"[^a-zA-Z']\",\" \",regex=True,inplace=True)\n",
    "df_text[\"headline_text\"].head(5)"
   ]
  },
  {
   "cell_type": "code",
   "execution_count": 11,
   "id": "e50de6a6",
   "metadata": {},
   "outputs": [],
   "source": [
    "news_data=df_text[-300:-1]"
   ]
  },
  {
   "cell_type": "code",
   "execution_count": 12,
   "id": "7de12ff1",
   "metadata": {},
   "outputs": [
    {
     "data": {
      "text/html": [
       "<div>\n",
       "<style scoped>\n",
       "    .dataframe tbody tr th:only-of-type {\n",
       "        vertical-align: middle;\n",
       "    }\n",
       "\n",
       "    .dataframe tbody tr th {\n",
       "        vertical-align: top;\n",
       "    }\n",
       "\n",
       "    .dataframe thead th {\n",
       "        text-align: right;\n",
       "    }\n",
       "</style>\n",
       "<table border=\"1\" class=\"dataframe\">\n",
       "  <thead>\n",
       "    <tr style=\"text-align: right;\">\n",
       "      <th></th>\n",
       "      <th>publish_date</th>\n",
       "      <th>headline_text</th>\n",
       "    </tr>\n",
       "  </thead>\n",
       "  <tbody>\n",
       "    <tr>\n",
       "      <th>7417</th>\n",
       "      <td>2021-06-05</td>\n",
       "      <td>Horoscope Today     June       Check astrologi...</td>\n",
       "    </tr>\n",
       "    <tr>\n",
       "      <th>7418</th>\n",
       "      <td>2021-06-06</td>\n",
       "      <td>Man beaten to death for murder Rakshit Shetty ...</td>\n",
       "    </tr>\n",
       "    <tr>\n",
       "      <th>7419</th>\n",
       "      <td>2021-06-07</td>\n",
       "      <td>Expert approved techniques for creating natura...</td>\n",
       "    </tr>\n",
       "    <tr>\n",
       "      <th>7420</th>\n",
       "      <td>2021-06-08</td>\n",
       "      <td>Why some women feel guilty about premarital se...</td>\n",
       "    </tr>\n",
       "    <tr>\n",
       "      <th>7421</th>\n",
       "      <td>2021-06-09</td>\n",
       "      <td>Youth held for attempting to rob woman's ornam...</td>\n",
       "    </tr>\n",
       "    <tr>\n",
       "      <th>...</th>\n",
       "      <td>...</td>\n",
       "      <td>...</td>\n",
       "    </tr>\n",
       "    <tr>\n",
       "      <th>7711</th>\n",
       "      <td>2022-03-26</td>\n",
       "      <td>Mumbai celebrates World Theatre Day with speci...</td>\n",
       "    </tr>\n",
       "    <tr>\n",
       "      <th>7712</th>\n",
       "      <td>2022-03-27</td>\n",
       "      <td>Playing a dead man in Body God meant sitting i...</td>\n",
       "    </tr>\n",
       "    <tr>\n",
       "      <th>7713</th>\n",
       "      <td>2022-03-28</td>\n",
       "      <td>As fashion becomes democratic  demand for styl...</td>\n",
       "    </tr>\n",
       "    <tr>\n",
       "      <th>7714</th>\n",
       "      <td>2022-03-29</td>\n",
       "      <td>Bobby Deol  Like my dad  I hope to be working ...</td>\n",
       "    </tr>\n",
       "    <tr>\n",
       "      <th>7715</th>\n",
       "      <td>2022-03-30</td>\n",
       "      <td>I will not give in to trends  Dossmode The tim...</td>\n",
       "    </tr>\n",
       "  </tbody>\n",
       "</table>\n",
       "<p>299 rows × 2 columns</p>\n",
       "</div>"
      ],
      "text/plain": [
       "     publish_date                                      headline_text\n",
       "7417   2021-06-05  Horoscope Today     June       Check astrologi...\n",
       "7418   2021-06-06  Man beaten to death for murder Rakshit Shetty ...\n",
       "7419   2021-06-07  Expert approved techniques for creating natura...\n",
       "7420   2021-06-08  Why some women feel guilty about premarital se...\n",
       "7421   2021-06-09  Youth held for attempting to rob woman's ornam...\n",
       "...           ...                                                ...\n",
       "7711   2022-03-26  Mumbai celebrates World Theatre Day with speci...\n",
       "7712   2022-03-27  Playing a dead man in Body God meant sitting i...\n",
       "7713   2022-03-28  As fashion becomes democratic  demand for styl...\n",
       "7714   2022-03-29  Bobby Deol  Like my dad  I hope to be working ...\n",
       "7715   2022-03-30  I will not give in to trends  Dossmode The tim...\n",
       "\n",
       "[299 rows x 2 columns]"
      ]
     },
     "execution_count": 12,
     "metadata": {},
     "output_type": "execute_result"
    }
   ],
   "source": [
    "news_data"
   ]
  },
  {
   "cell_type": "code",
   "execution_count": 13,
   "id": "88d39465",
   "metadata": {},
   "outputs": [
    {
     "data": {
      "text/html": [
       "<div>\n",
       "<style scoped>\n",
       "    .dataframe tbody tr th:only-of-type {\n",
       "        vertical-align: middle;\n",
       "    }\n",
       "\n",
       "    .dataframe tbody tr th {\n",
       "        vertical-align: top;\n",
       "    }\n",
       "\n",
       "    .dataframe thead th {\n",
       "        text-align: right;\n",
       "    }\n",
       "</style>\n",
       "<table border=\"1\" class=\"dataframe\">\n",
       "  <thead>\n",
       "    <tr style=\"text-align: right;\">\n",
       "      <th></th>\n",
       "      <th>publish_date</th>\n",
       "      <th>headline_text</th>\n",
       "      <th>Subjectivity</th>\n",
       "      <th>Polarity</th>\n",
       "    </tr>\n",
       "  </thead>\n",
       "  <tbody>\n",
       "    <tr>\n",
       "      <th>7417</th>\n",
       "      <td>2021-06-05</td>\n",
       "      <td>Horoscope Today     June       Check astrologi...</td>\n",
       "      <td>0.363601</td>\n",
       "      <td>0.045100</td>\n",
       "    </tr>\n",
       "    <tr>\n",
       "      <th>7418</th>\n",
       "      <td>2021-06-06</td>\n",
       "      <td>Man beaten to death for murder Rakshit Shetty ...</td>\n",
       "      <td>0.400750</td>\n",
       "      <td>0.019444</td>\n",
       "    </tr>\n",
       "    <tr>\n",
       "      <th>7419</th>\n",
       "      <td>2021-06-07</td>\n",
       "      <td>Expert approved techniques for creating natura...</td>\n",
       "      <td>0.355720</td>\n",
       "      <td>0.045619</td>\n",
       "    </tr>\n",
       "    <tr>\n",
       "      <th>7420</th>\n",
       "      <td>2021-06-08</td>\n",
       "      <td>Why some women feel guilty about premarital se...</td>\n",
       "      <td>0.383899</td>\n",
       "      <td>0.054865</td>\n",
       "    </tr>\n",
       "    <tr>\n",
       "      <th>7421</th>\n",
       "      <td>2021-06-09</td>\n",
       "      <td>Youth held for attempting to rob woman's ornam...</td>\n",
       "      <td>0.390521</td>\n",
       "      <td>0.049587</td>\n",
       "    </tr>\n",
       "    <tr>\n",
       "      <th>...</th>\n",
       "      <td>...</td>\n",
       "      <td>...</td>\n",
       "      <td>...</td>\n",
       "      <td>...</td>\n",
       "    </tr>\n",
       "    <tr>\n",
       "      <th>7711</th>\n",
       "      <td>2022-03-26</td>\n",
       "      <td>Mumbai celebrates World Theatre Day with speci...</td>\n",
       "      <td>0.380259</td>\n",
       "      <td>0.041225</td>\n",
       "    </tr>\n",
       "    <tr>\n",
       "      <th>7712</th>\n",
       "      <td>2022-03-27</td>\n",
       "      <td>Playing a dead man in Body God meant sitting i...</td>\n",
       "      <td>0.365123</td>\n",
       "      <td>0.034162</td>\n",
       "    </tr>\n",
       "    <tr>\n",
       "      <th>7713</th>\n",
       "      <td>2022-03-28</td>\n",
       "      <td>As fashion becomes democratic  demand for styl...</td>\n",
       "      <td>0.383007</td>\n",
       "      <td>0.058513</td>\n",
       "    </tr>\n",
       "    <tr>\n",
       "      <th>7714</th>\n",
       "      <td>2022-03-29</td>\n",
       "      <td>Bobby Deol  Like my dad  I hope to be working ...</td>\n",
       "      <td>0.403627</td>\n",
       "      <td>0.092144</td>\n",
       "    </tr>\n",
       "    <tr>\n",
       "      <th>7715</th>\n",
       "      <td>2022-03-30</td>\n",
       "      <td>I will not give in to trends  Dossmode The tim...</td>\n",
       "      <td>0.344136</td>\n",
       "      <td>0.039954</td>\n",
       "    </tr>\n",
       "  </tbody>\n",
       "</table>\n",
       "<p>299 rows × 4 columns</p>\n",
       "</div>"
      ],
      "text/plain": [
       "     publish_date                                      headline_text  \\\n",
       "7417   2021-06-05  Horoscope Today     June       Check astrologi...   \n",
       "7418   2021-06-06  Man beaten to death for murder Rakshit Shetty ...   \n",
       "7419   2021-06-07  Expert approved techniques for creating natura...   \n",
       "7420   2021-06-08  Why some women feel guilty about premarital se...   \n",
       "7421   2021-06-09  Youth held for attempting to rob woman's ornam...   \n",
       "...           ...                                                ...   \n",
       "7711   2022-03-26  Mumbai celebrates World Theatre Day with speci...   \n",
       "7712   2022-03-27  Playing a dead man in Body God meant sitting i...   \n",
       "7713   2022-03-28  As fashion becomes democratic  demand for styl...   \n",
       "7714   2022-03-29  Bobby Deol  Like my dad  I hope to be working ...   \n",
       "7715   2022-03-30  I will not give in to trends  Dossmode The tim...   \n",
       "\n",
       "      Subjectivity  Polarity  \n",
       "7417      0.363601  0.045100  \n",
       "7418      0.400750  0.019444  \n",
       "7419      0.355720  0.045619  \n",
       "7420      0.383899  0.054865  \n",
       "7421      0.390521  0.049587  \n",
       "...            ...       ...  \n",
       "7711      0.380259  0.041225  \n",
       "7712      0.365123  0.034162  \n",
       "7713      0.383007  0.058513  \n",
       "7714      0.403627  0.092144  \n",
       "7715      0.344136  0.039954  \n",
       "\n",
       "[299 rows x 4 columns]"
      ]
     },
     "execution_count": 13,
     "metadata": {},
     "output_type": "execute_result"
    }
   ],
   "source": [
    "def Subjectivity(text):\n",
    "    return TextBlob(text).sentiment.subjectivity\n",
    "\n",
    "def Polarity(text):\n",
    "    return  TextBlob(text).sentiment.polarity\n",
    "\n",
    "news_data['Subjectivity'] = news_data['headline_text'].apply(Subjectivity)\n",
    "news_data['Polarity'] = news_data['headline_text'].apply(Polarity)\n",
    "news_data"
   ]
  },
  {
   "cell_type": "code",
   "execution_count": 14,
   "id": "54a3792a",
   "metadata": {},
   "outputs": [
    {
     "data": {
      "text/plain": [
       "<AxesSubplot:>"
      ]
     },
     "execution_count": 14,
     "metadata": {},
     "output_type": "execute_result"
    },
    {
     "data": {
      "image/png": "[encoded data removed]",
      "text/plain": [
       "<Figure size 1000x600 with 1 Axes>"
      ]
     },
     "metadata": {},
     "output_type": "display_data"
    }
   ],
   "source": [
    "plt.figure(figsize = (10,6))\n",
    "news_data['Polarity'].hist(color = 'green')"
   ]
  },
  {
   "cell_type": "code",
   "execution_count": 15,
   "id": "7263c08f",
   "metadata": {},
   "outputs": [
    {
     "data": {
      "text/plain": [
       "<AxesSubplot:>"
      ]
     },
     "execution_count": 15,
     "metadata": {},
     "output_type": "execute_result"
    },
    {
     "data": {
      "image/png": "[encoded data removed]",
      "text/plain": [
       "<Figure size 1000x600 with 1 Axes>"
      ]
     },
     "metadata": {},
     "output_type": "display_data"
    }
   ],
   "source": [
    "plt.figure(figsize = (10,6))\n",
    "news_data['Subjectivity'].hist(color = 'blue')"
   ]
  },
  {
   "cell_type": "code",
   "execution_count": 16,
   "id": "25690092",
   "metadata": {
    "scrolled": true
   },
   "outputs": [],
   "source": [
    "snt = SentimentIntensityAnalyzer()"
   ]
  },
  {
   "cell_type": "code",
   "execution_count": 17,
   "id": "df7fbfb7",
   "metadata": {},
   "outputs": [],
   "source": [
    "from nltk.sentiment.vader import SentimentIntensityAnalyzer"
   ]
  },
  {
   "cell_type": "code",
   "execution_count": 26,
   "id": "a4b53c32",
   "metadata": {},
   "outputs": [
    {
     "name": "stderr",
     "output_type": "stream",
     "text": [
      "[nltk_data] Error loading stopwords: <urlopen error [WinError 10060] A\n",
      "[nltk_data]     connection attempt failed because the connected party\n",
      "[nltk_data]     did not properly respond after a period of time, or\n",
      "[nltk_data]     established connection failed because connected host\n",
      "[nltk_data]     has failed to respond>\n",
      "[nltk_data] Error loading vader_lexicon: <urlopen error [WinError\n",
      "[nltk_data]     10060] A connection attempt failed because the\n",
      "[nltk_data]     connected party did not properly respond after a\n",
      "[nltk_data]     period of time, or established connection failed\n",
      "[nltk_data]     because connected host has failed to respond>\n"
     ]
    },
    {
     "data": {
      "text/plain": [
       "False"
      ]
     },
     "execution_count": 26,
     "metadata": {},
     "output_type": "execute_result"
    }
   ],
   "source": [
    "nltk.download('stopwords')\n",
    "nltk.download('vader_lexicon')"
   ]
  },
  {
   "cell_type": "code",
   "execution_count": 18,
   "id": "6e6532e4",
   "metadata": {},
   "outputs": [
    {
     "data": {
      "text/html": [
       "<div>\n",
       "<style scoped>\n",
       "    .dataframe tbody tr th:only-of-type {\n",
       "        vertical-align: middle;\n",
       "    }\n",
       "\n",
       "    .dataframe tbody tr th {\n",
       "        vertical-align: top;\n",
       "    }\n",
       "\n",
       "    .dataframe thead th {\n",
       "        text-align: right;\n",
       "    }\n",
       "</style>\n",
       "<table border=\"1\" class=\"dataframe\">\n",
       "  <thead>\n",
       "    <tr style=\"text-align: right;\">\n",
       "      <th></th>\n",
       "      <th>publish_date</th>\n",
       "      <th>headline_text</th>\n",
       "      <th>Subjectivity</th>\n",
       "      <th>Polarity</th>\n",
       "      <th>Compound</th>\n",
       "      <th>Negative</th>\n",
       "      <th>Neutral</th>\n",
       "      <th>Positive</th>\n",
       "    </tr>\n",
       "  </thead>\n",
       "  <tbody>\n",
       "    <tr>\n",
       "      <th>7417</th>\n",
       "      <td>2021-06-05</td>\n",
       "      <td>Horoscope Today     June       Check astrologi...</td>\n",
       "      <td>0.363601</td>\n",
       "      <td>0.045100</td>\n",
       "      <td>-0.9999</td>\n",
       "      <td>0.149</td>\n",
       "      <td>0.761</td>\n",
       "      <td>0.091</td>\n",
       "    </tr>\n",
       "    <tr>\n",
       "      <th>7418</th>\n",
       "      <td>2021-06-06</td>\n",
       "      <td>Man beaten to death for murder Rakshit Shetty ...</td>\n",
       "      <td>0.400750</td>\n",
       "      <td>0.019444</td>\n",
       "      <td>-0.9998</td>\n",
       "      <td>0.133</td>\n",
       "      <td>0.787</td>\n",
       "      <td>0.080</td>\n",
       "    </tr>\n",
       "    <tr>\n",
       "      <th>7419</th>\n",
       "      <td>2021-06-07</td>\n",
       "      <td>Expert approved techniques for creating natura...</td>\n",
       "      <td>0.355720</td>\n",
       "      <td>0.045619</td>\n",
       "      <td>-0.9999</td>\n",
       "      <td>0.150</td>\n",
       "      <td>0.760</td>\n",
       "      <td>0.089</td>\n",
       "    </tr>\n",
       "    <tr>\n",
       "      <th>7420</th>\n",
       "      <td>2021-06-08</td>\n",
       "      <td>Why some women feel guilty about premarital se...</td>\n",
       "      <td>0.383899</td>\n",
       "      <td>0.054865</td>\n",
       "      <td>-0.9998</td>\n",
       "      <td>0.122</td>\n",
       "      <td>0.802</td>\n",
       "      <td>0.076</td>\n",
       "    </tr>\n",
       "    <tr>\n",
       "      <th>7421</th>\n",
       "      <td>2021-06-09</td>\n",
       "      <td>Youth held for attempting to rob woman's ornam...</td>\n",
       "      <td>0.390521</td>\n",
       "      <td>0.049587</td>\n",
       "      <td>-0.9987</td>\n",
       "      <td>0.102</td>\n",
       "      <td>0.819</td>\n",
       "      <td>0.079</td>\n",
       "    </tr>\n",
       "    <tr>\n",
       "      <th>...</th>\n",
       "      <td>...</td>\n",
       "      <td>...</td>\n",
       "      <td>...</td>\n",
       "      <td>...</td>\n",
       "      <td>...</td>\n",
       "      <td>...</td>\n",
       "      <td>...</td>\n",
       "      <td>...</td>\n",
       "    </tr>\n",
       "    <tr>\n",
       "      <th>7711</th>\n",
       "      <td>2022-03-26</td>\n",
       "      <td>Mumbai celebrates World Theatre Day with speci...</td>\n",
       "      <td>0.380259</td>\n",
       "      <td>0.041225</td>\n",
       "      <td>-0.9999</td>\n",
       "      <td>0.168</td>\n",
       "      <td>0.753</td>\n",
       "      <td>0.079</td>\n",
       "    </tr>\n",
       "    <tr>\n",
       "      <th>7712</th>\n",
       "      <td>2022-03-27</td>\n",
       "      <td>Playing a dead man in Body God meant sitting i...</td>\n",
       "      <td>0.365123</td>\n",
       "      <td>0.034162</td>\n",
       "      <td>-0.9999</td>\n",
       "      <td>0.158</td>\n",
       "      <td>0.758</td>\n",
       "      <td>0.084</td>\n",
       "    </tr>\n",
       "    <tr>\n",
       "      <th>7713</th>\n",
       "      <td>2022-03-28</td>\n",
       "      <td>As fashion becomes democratic  demand for styl...</td>\n",
       "      <td>0.383007</td>\n",
       "      <td>0.058513</td>\n",
       "      <td>-0.9999</td>\n",
       "      <td>0.160</td>\n",
       "      <td>0.737</td>\n",
       "      <td>0.103</td>\n",
       "    </tr>\n",
       "    <tr>\n",
       "      <th>7714</th>\n",
       "      <td>2022-03-29</td>\n",
       "      <td>Bobby Deol  Like my dad  I hope to be working ...</td>\n",
       "      <td>0.403627</td>\n",
       "      <td>0.092144</td>\n",
       "      <td>-0.9999</td>\n",
       "      <td>0.159</td>\n",
       "      <td>0.755</td>\n",
       "      <td>0.086</td>\n",
       "    </tr>\n",
       "    <tr>\n",
       "      <th>7715</th>\n",
       "      <td>2022-03-30</td>\n",
       "      <td>I will not give in to trends  Dossmode The tim...</td>\n",
       "      <td>0.344136</td>\n",
       "      <td>0.039954</td>\n",
       "      <td>-0.9999</td>\n",
       "      <td>0.156</td>\n",
       "      <td>0.769</td>\n",
       "      <td>0.076</td>\n",
       "    </tr>\n",
       "  </tbody>\n",
       "</table>\n",
       "<p>299 rows × 8 columns</p>\n",
       "</div>"
      ],
      "text/plain": [
       "     publish_date                                      headline_text  \\\n",
       "7417   2021-06-05  Horoscope Today     June       Check astrologi...   \n",
       "7418   2021-06-06  Man beaten to death for murder Rakshit Shetty ...   \n",
       "7419   2021-06-07  Expert approved techniques for creating natura...   \n",
       "7420   2021-06-08  Why some women feel guilty about premarital se...   \n",
       "7421   2021-06-09  Youth held for attempting to rob woman's ornam...   \n",
       "...           ...                                                ...   \n",
       "7711   2022-03-26  Mumbai celebrates World Theatre Day with speci...   \n",
       "7712   2022-03-27  Playing a dead man in Body God meant sitting i...   \n",
       "7713   2022-03-28  As fashion becomes democratic  demand for styl...   \n",
       "7714   2022-03-29  Bobby Deol  Like my dad  I hope to be working ...   \n",
       "7715   2022-03-30  I will not give in to trends  Dossmode The tim...   \n",
       "\n",
       "      Subjectivity  Polarity  Compound  Negative  Neutral  Positive  \n",
       "7417      0.363601  0.045100   -0.9999     0.149    0.761     0.091  \n",
       "7418      0.400750  0.019444   -0.9998     0.133    0.787     0.080  \n",
       "7419      0.355720  0.045619   -0.9999     0.150    0.760     0.089  \n",
       "7420      0.383899  0.054865   -0.9998     0.122    0.802     0.076  \n",
       "7421      0.390521  0.049587   -0.9987     0.102    0.819     0.079  \n",
       "...            ...       ...       ...       ...      ...       ...  \n",
       "7711      0.380259  0.041225   -0.9999     0.168    0.753     0.079  \n",
       "7712      0.365123  0.034162   -0.9999     0.158    0.758     0.084  \n",
       "7713      0.383007  0.058513   -0.9999     0.160    0.737     0.103  \n",
       "7714      0.403627  0.092144   -0.9999     0.159    0.755     0.086  \n",
       "7715      0.344136  0.039954   -0.9999     0.156    0.769     0.076  \n",
       "\n",
       "[299 rows x 8 columns]"
      ]
     },
     "execution_count": 18,
     "metadata": {},
     "output_type": "execute_result"
    }
   ],
   "source": [
    "news_data['Compound'] = [snt.polarity_scores(v)['compound'] for v in news_data['headline_text']]\n",
    "news_data['Negative'] = [snt.polarity_scores(v)['neg'] for v in news_data['headline_text']]\n",
    "news_data['Neutral'] = [snt.polarity_scores(v)['neu'] for v in news_data['headline_text']]\n",
    "news_data['Positive'] = [snt.polarity_scores(v)['pos'] for v in news_data['headline_text']]\n",
    "news_data"
   ]
  },
  {
   "cell_type": "code",
   "execution_count": 19,
   "id": "92eef62e",
   "metadata": {},
   "outputs": [
    {
     "data": {
      "text/html": [
       "<div>\n",
       "<style scoped>\n",
       "    .dataframe tbody tr th:only-of-type {\n",
       "        vertical-align: middle;\n",
       "    }\n",
       "\n",
       "    .dataframe tbody tr th {\n",
       "        vertical-align: top;\n",
       "    }\n",
       "\n",
       "    .dataframe thead th {\n",
       "        text-align: right;\n",
       "    }\n",
       "</style>\n",
       "<table border=\"1\" class=\"dataframe\">\n",
       "  <thead>\n",
       "    <tr style=\"text-align: right;\">\n",
       "      <th></th>\n",
       "      <th>Date</th>\n",
       "      <th>Open</th>\n",
       "      <th>High</th>\n",
       "      <th>Low</th>\n",
       "      <th>Close</th>\n",
       "      <th>Adj Close</th>\n",
       "      <th>Volume</th>\n",
       "    </tr>\n",
       "  </thead>\n",
       "  <tbody>\n",
       "    <tr>\n",
       "      <th>0</th>\n",
       "      <td>2021-09-01</td>\n",
       "      <td>78.849998</td>\n",
       "      <td>79.010002</td>\n",
       "      <td>78.320000</td>\n",
       "      <td>78.849998</td>\n",
       "      <td>77.148323</td>\n",
       "      <td>2447400</td>\n",
       "    </tr>\n",
       "    <tr>\n",
       "      <th>1</th>\n",
       "      <td>2021-09-02</td>\n",
       "      <td>79.010002</td>\n",
       "      <td>79.169998</td>\n",
       "      <td>78.059998</td>\n",
       "      <td>78.250000</td>\n",
       "      <td>76.561279</td>\n",
       "      <td>2639500</td>\n",
       "    </tr>\n",
       "    <tr>\n",
       "      <th>2</th>\n",
       "      <td>2021-09-03</td>\n",
       "      <td>77.610001</td>\n",
       "      <td>78.129997</td>\n",
       "      <td>76.620003</td>\n",
       "      <td>76.639999</td>\n",
       "      <td>74.986023</td>\n",
       "      <td>1167600</td>\n",
       "    </tr>\n",
       "    <tr>\n",
       "      <th>3</th>\n",
       "      <td>2021-09-07</td>\n",
       "      <td>76.750000</td>\n",
       "      <td>77.750000</td>\n",
       "      <td>76.440002</td>\n",
       "      <td>77.099998</td>\n",
       "      <td>75.436089</td>\n",
       "      <td>2156200</td>\n",
       "    </tr>\n",
       "    <tr>\n",
       "      <th>4</th>\n",
       "      <td>2021-09-08</td>\n",
       "      <td>77.199997</td>\n",
       "      <td>77.400002</td>\n",
       "      <td>76.440002</td>\n",
       "      <td>76.720001</td>\n",
       "      <td>75.064293</td>\n",
       "      <td>919400</td>\n",
       "    </tr>\n",
       "  </tbody>\n",
       "</table>\n",
       "</div>"
      ],
      "text/plain": [
       "         Date       Open       High        Low      Close  Adj Close   Volume\n",
       "0  2021-09-01  78.849998  79.010002  78.320000  78.849998  77.148323  2447400\n",
       "1  2021-09-02  79.010002  79.169998  78.059998  78.250000  76.561279  2639500\n",
       "2  2021-09-03  77.610001  78.129997  76.620003  76.639999  74.986023  1167600\n",
       "3  2021-09-07  76.750000  77.750000  76.440002  77.099998  75.436089  2156200\n",
       "4  2021-09-08  77.199997  77.400002  76.440002  76.720001  75.064293   919400"
      ]
     },
     "execution_count": 19,
     "metadata": {},
     "output_type": "execute_result"
    }
   ],
   "source": [
    "df_num = pd.read_csv(\"C:/Users/Gokul nath/Downloads/HDB (1).csv\")\n",
    "df_num.head()"
   ]
  },
  {
   "cell_type": "code",
   "execution_count": 20,
   "id": "51a27c3c",
   "metadata": {},
   "outputs": [
    {
     "name": "stdout",
     "output_type": "stream",
     "text": [
      "<class 'pandas.core.frame.DataFrame'>\n",
      "RangeIndex: 146 entries, 0 to 145\n",
      "Data columns (total 7 columns):\n",
      " #   Column     Non-Null Count  Dtype         \n",
      "---  ------     --------------  -----         \n",
      " 0   Date       146 non-null    datetime64[ns]\n",
      " 1   Open       146 non-null    float64       \n",
      " 2   High       146 non-null    float64       \n",
      " 3   Low        146 non-null    float64       \n",
      " 4   Close      146 non-null    float64       \n",
      " 5   Adj Close  146 non-null    float64       \n",
      " 6   Volume     146 non-null    int64         \n",
      "dtypes: datetime64[ns](1), float64(5), int64(1)\n",
      "memory usage: 8.1 KB\n"
     ]
    }
   ],
   "source": [
    "df_num[\"Date\"] = pd.to_datetime(df_num[\"Date\"],format='%Y-%m-%d')\n",
    "df_num.info()"
   ]
  },
  {
   "cell_type": "code",
   "execution_count": 21,
   "id": "548d60eb",
   "metadata": {},
   "outputs": [
    {
     "data": {
      "text/html": [
       "<div>\n",
       "<style scoped>\n",
       "    .dataframe tbody tr th:only-of-type {\n",
       "        vertical-align: middle;\n",
       "    }\n",
       "\n",
       "    .dataframe tbody tr th {\n",
       "        vertical-align: top;\n",
       "    }\n",
       "\n",
       "    .dataframe thead th {\n",
       "        text-align: right;\n",
       "    }\n",
       "</style>\n",
       "<table border=\"1\" class=\"dataframe\">\n",
       "  <thead>\n",
       "    <tr style=\"text-align: right;\">\n",
       "      <th></th>\n",
       "      <th>Date</th>\n",
       "      <th>Open</th>\n",
       "      <th>High</th>\n",
       "      <th>Low</th>\n",
       "      <th>Close</th>\n",
       "      <th>Adj Close</th>\n",
       "      <th>Volume</th>\n",
       "    </tr>\n",
       "  </thead>\n",
       "  <tbody>\n",
       "    <tr>\n",
       "      <th>141</th>\n",
       "      <td>2022-03-24</td>\n",
       "      <td>60.509998</td>\n",
       "      <td>60.820000</td>\n",
       "      <td>59.970001</td>\n",
       "      <td>60.799999</td>\n",
       "      <td>59.487862</td>\n",
       "      <td>1364000</td>\n",
       "    </tr>\n",
       "    <tr>\n",
       "      <th>142</th>\n",
       "      <td>2022-03-25</td>\n",
       "      <td>60.570000</td>\n",
       "      <td>60.910000</td>\n",
       "      <td>60.049999</td>\n",
       "      <td>60.279999</td>\n",
       "      <td>58.979088</td>\n",
       "      <td>1281800</td>\n",
       "    </tr>\n",
       "    <tr>\n",
       "      <th>143</th>\n",
       "      <td>2022-03-28</td>\n",
       "      <td>59.869999</td>\n",
       "      <td>60.580002</td>\n",
       "      <td>59.619999</td>\n",
       "      <td>60.270000</td>\n",
       "      <td>58.969307</td>\n",
       "      <td>1323800</td>\n",
       "    </tr>\n",
       "    <tr>\n",
       "      <th>144</th>\n",
       "      <td>2022-03-29</td>\n",
       "      <td>61.310001</td>\n",
       "      <td>62.279999</td>\n",
       "      <td>60.869999</td>\n",
       "      <td>61.820000</td>\n",
       "      <td>60.485855</td>\n",
       "      <td>2398200</td>\n",
       "    </tr>\n",
       "    <tr>\n",
       "      <th>145</th>\n",
       "      <td>2022-03-30</td>\n",
       "      <td>61.500000</td>\n",
       "      <td>62.040001</td>\n",
       "      <td>61.180000</td>\n",
       "      <td>61.230000</td>\n",
       "      <td>59.908585</td>\n",
       "      <td>1616900</td>\n",
       "    </tr>\n",
       "  </tbody>\n",
       "</table>\n",
       "</div>"
      ],
      "text/plain": [
       "          Date       Open       High        Low      Close  Adj Close   Volume\n",
       "141 2022-03-24  60.509998  60.820000  59.970001  60.799999  59.487862  1364000\n",
       "142 2022-03-25  60.570000  60.910000  60.049999  60.279999  58.979088  1281800\n",
       "143 2022-03-28  59.869999  60.580002  59.619999  60.270000  58.969307  1323800\n",
       "144 2022-03-29  61.310001  62.279999  60.869999  61.820000  60.485855  2398200\n",
       "145 2022-03-30  61.500000  62.040001  61.180000  61.230000  59.908585  1616900"
      ]
     },
     "execution_count": 21,
     "metadata": {},
     "output_type": "execute_result"
    }
   ],
   "source": [
    "df_num.tail()"
   ]
  },
  {
   "cell_type": "code",
   "execution_count": 22,
   "id": "e0115d1d",
   "metadata": {},
   "outputs": [
    {
     "data": {
      "text/html": [
       "<div>\n",
       "<style scoped>\n",
       "    .dataframe tbody tr th:only-of-type {\n",
       "        vertical-align: middle;\n",
       "    }\n",
       "\n",
       "    .dataframe tbody tr th {\n",
       "        vertical-align: top;\n",
       "    }\n",
       "\n",
       "    .dataframe thead th {\n",
       "        text-align: right;\n",
       "    }\n",
       "</style>\n",
       "<table border=\"1\" class=\"dataframe\">\n",
       "  <thead>\n",
       "    <tr style=\"text-align: right;\">\n",
       "      <th></th>\n",
       "      <th>Open</th>\n",
       "      <th>High</th>\n",
       "      <th>Low</th>\n",
       "      <th>Close</th>\n",
       "      <th>Adj Close</th>\n",
       "      <th>Volume</th>\n",
       "    </tr>\n",
       "  </thead>\n",
       "  <tbody>\n",
       "    <tr>\n",
       "      <th>count</th>\n",
       "      <td>146.000000</td>\n",
       "      <td>146.000000</td>\n",
       "      <td>146.000000</td>\n",
       "      <td>146.000000</td>\n",
       "      <td>146.000000</td>\n",
       "      <td>1.460000e+02</td>\n",
       "    </tr>\n",
       "    <tr>\n",
       "      <th>mean</th>\n",
       "      <td>68.751233</td>\n",
       "      <td>69.399726</td>\n",
       "      <td>67.963288</td>\n",
       "      <td>68.613698</td>\n",
       "      <td>67.132935</td>\n",
       "      <td>1.726663e+06</td>\n",
       "    </tr>\n",
       "    <tr>\n",
       "      <th>std</th>\n",
       "      <td>5.450425</td>\n",
       "      <td>5.327593</td>\n",
       "      <td>5.482908</td>\n",
       "      <td>5.422878</td>\n",
       "      <td>5.305846</td>\n",
       "      <td>7.647896e+05</td>\n",
       "    </tr>\n",
       "    <tr>\n",
       "      <th>min</th>\n",
       "      <td>55.169998</td>\n",
       "      <td>56.049999</td>\n",
       "      <td>54.250000</td>\n",
       "      <td>54.480000</td>\n",
       "      <td>53.304256</td>\n",
       "      <td>5.048000e+05</td>\n",
       "    </tr>\n",
       "    <tr>\n",
       "      <th>25%</th>\n",
       "      <td>65.219999</td>\n",
       "      <td>65.815003</td>\n",
       "      <td>64.507500</td>\n",
       "      <td>65.077499</td>\n",
       "      <td>63.673051</td>\n",
       "      <td>1.163800e+06</td>\n",
       "    </tr>\n",
       "    <tr>\n",
       "      <th>50%</th>\n",
       "      <td>68.669998</td>\n",
       "      <td>69.580002</td>\n",
       "      <td>68.084999</td>\n",
       "      <td>68.700001</td>\n",
       "      <td>67.217372</td>\n",
       "      <td>1.535550e+06</td>\n",
       "    </tr>\n",
       "    <tr>\n",
       "      <th>75%</th>\n",
       "      <td>73.072496</td>\n",
       "      <td>73.607500</td>\n",
       "      <td>72.157504</td>\n",
       "      <td>72.722501</td>\n",
       "      <td>71.153066</td>\n",
       "      <td>2.219800e+06</td>\n",
       "    </tr>\n",
       "    <tr>\n",
       "      <th>max</th>\n",
       "      <td>79.010002</td>\n",
       "      <td>79.169998</td>\n",
       "      <td>78.320000</td>\n",
       "      <td>78.849998</td>\n",
       "      <td>77.148323</td>\n",
       "      <td>5.057100e+06</td>\n",
       "    </tr>\n",
       "  </tbody>\n",
       "</table>\n",
       "</div>"
      ],
      "text/plain": [
       "             Open        High         Low       Close   Adj Close  \\\n",
       "count  146.000000  146.000000  146.000000  146.000000  146.000000   \n",
       "mean    68.751233   69.399726   67.963288   68.613698   67.132935   \n",
       "std      5.450425    5.327593    5.482908    5.422878    5.305846   \n",
       "min     55.169998   56.049999   54.250000   54.480000   53.304256   \n",
       "25%     65.219999   65.815003   64.507500   65.077499   63.673051   \n",
       "50%     68.669998   69.580002   68.084999   68.700001   67.217372   \n",
       "75%     73.072496   73.607500   72.157504   72.722501   71.153066   \n",
       "max     79.010002   79.169998   78.320000   78.849998   77.148323   \n",
       "\n",
       "             Volume  \n",
       "count  1.460000e+02  \n",
       "mean   1.726663e+06  \n",
       "std    7.647896e+05  \n",
       "min    5.048000e+05  \n",
       "25%    1.163800e+06  \n",
       "50%    1.535550e+06  \n",
       "75%    2.219800e+06  \n",
       "max    5.057100e+06  "
      ]
     },
     "execution_count": 22,
     "metadata": {},
     "output_type": "execute_result"
    }
   ],
   "source": [
    "df_num.describe()"
   ]
  },
  {
   "cell_type": "code",
   "execution_count": 23,
   "id": "f398fd3a",
   "metadata": {},
   "outputs": [
    {
     "data": {
      "text/plain": [
       "Date         0\n",
       "Open         0\n",
       "High         0\n",
       "Low          0\n",
       "Close        0\n",
       "Adj Close    0\n",
       "Volume       0\n",
       "dtype: int64"
      ]
     },
     "execution_count": 23,
     "metadata": {},
     "output_type": "execute_result"
    }
   ],
   "source": [
    "df_num.isnull().sum()"
   ]
  },
  {
   "cell_type": "code",
   "execution_count": 24,
   "id": "3053409a",
   "metadata": {},
   "outputs": [
    {
     "data": {
      "text/plain": [
       "Text(0, 0.5, 'QMCI')"
      ]
     },
     "execution_count": 24,
     "metadata": {},
     "output_type": "execute_result"
    },
    {
     "data": {
      "image/png": "[encoded data removed]",
      "text/plain": [
       "<Figure size 1000x600 with 1 Axes>"
      ]
     },
     "metadata": {},
     "output_type": "display_data"
    }
   ],
   "source": [
    "plt.figure(figsize=(10,6))\n",
    "df_num['Close'].plot()\n",
    "plt.ylabel('QMCI')"
   ]
  },
  {
   "cell_type": "code",
   "execution_count": 25,
   "id": "2353cc26",
   "metadata": {},
   "outputs": [
    {
     "data": {
      "text/plain": [
       "<matplotlib.legend.Legend at 0x19481e5e070>"
      ]
     },
     "execution_count": 25,
     "metadata": {},
     "output_type": "execute_result"
    },
    {
     "data": {
      "image/png": "[encoded data removed]",
      "text/plain": [
       "<Figure size 1000x600 with 1 Axes>"
      ]
     },
     "metadata": {},
     "output_type": "display_data"
    }
   ],
   "source": [
    "close = df_num['Close']\n",
    "\n",
    "ma = close.rolling(window = 50).mean()\n",
    "std = close.rolling(window = 50).std()\n",
    "\n",
    "plt.figure(figsize=(10,6))\n",
    "df_num['Close'].plot(color='g',label='Close')\n",
    "ma.plot(color = 'r',label='Rolling Mean')\n",
    "std.plot(label = 'Rolling Standard Deviation')\n",
    "\n",
    "plt.legend()"
   ]
  },
  {
   "cell_type": "code",
   "execution_count": 26,
   "id": "283b148d",
   "metadata": {},
   "outputs": [],
   "source": [
    "train = df_num[:100]\n",
    "test = df_num[100:]"
   ]
  },
  {
   "cell_type": "code",
   "execution_count": 27,
   "id": "435296b2",
   "metadata": {},
   "outputs": [
    {
     "data": {
      "image/png": "[encoded data removed]",
      "text/plain": [
       "<Figure size 1000x800 with 1 Axes>"
      ]
     },
     "metadata": {},
     "output_type": "display_data"
    },
    {
     "name": "stdout",
     "output_type": "stream",
     "text": [
      "Results of dickey fuller test\n",
      "ADF Test Statistic : -1.8123994284894012\n",
      "p-value : 0.3743233295891628\n",
      "#Lags Used : 0\n",
      "Number of Observations Used : 99\n",
      "Weak evidence against null hypothesis, time series is non-stationary \n"
     ]
    }
   ],
   "source": [
    "def test_stationarity(timeseries):\n",
    "\n",
    " #Determing rolling statistics\n",
    " rolmean = timeseries.rolling(20).mean()\n",
    " rolstd = timeseries.rolling(20).std()\n",
    "\n",
    " #Plot rolling statistics:\n",
    " plt.figure(figsize = (10,8))\n",
    " plt.plot(timeseries, color = 'y', label = 'original')\n",
    " plt.plot(rolmean, color = 'r', label = 'rolling mean')\n",
    " plt.plot(rolstd, color = 'b', label = 'rolling std')\n",
    " plt.xlabel('Date')\n",
    " plt.legend()\n",
    " plt.title('Rolling Mean and Standard Deviation',  fontsize = 20)\n",
    " plt.show(block = False)\n",
    " print('Results of dickey fuller test')\n",
    " result = adfuller(timeseries, autolag = 'AIC')\n",
    " labels = ['ADF Test Statistic','p-value','#Lags Used','Number of Observations Used']\n",
    " for value,label in zip(result, labels):\n",
    "   print(label+' : '+str(value) )\n",
    " if result[1] <= 0.05:\n",
    "   print(\"Strong evidence against the null hypothesis(Ho), reject the null hypothesis. Data is stationary\")\n",
    " else:\n",
    "   print(\"Weak evidence against null hypothesis, time series is non-stationary \")\n",
    "test_stationarity(train['Close'])"
   ]
  },
  {
   "cell_type": "code",
   "execution_count": 28,
   "id": "030d0c87",
   "metadata": {},
   "outputs": [
    {
     "data": {
      "text/plain": [
       "[<matplotlib.lines.Line2D at 0x1948c6eeee0>]"
      ]
     },
     "execution_count": 28,
     "metadata": {},
     "output_type": "execute_result"
    },
    {
     "data": {
      "image/png": "[encoded data removed]",
      "text/plain": [
       "<Figure size 1000x600 with 1 Axes>"
      ]
     },
     "metadata": {},
     "output_type": "display_data"
    }
   ],
   "source": [
    "train_log = np.log(train['Close']) \n",
    "test_log = np.log(test['Close'])\n",
    "\n",
    "mav = train_log.rolling(24).mean() \n",
    "plt.figure(figsize = (10,6))\n",
    "plt.plot(train_log) \n",
    "plt.plot(mav, color = 'red') "
   ]
  },
  {
   "cell_type": "code",
   "execution_count": 29,
   "id": "071eb247",
   "metadata": {},
   "outputs": [
    {
     "name": "stdout",
     "output_type": "stream",
     "text": [
      "Performing stepwise search to minimize aic\n",
      " ARIMA(2,1,2)(0,0,0)[0] intercept   : AIC=-554.189, Time=0.57 sec\n",
      " ARIMA(0,1,0)(0,0,0)[0] intercept   : AIC=-551.097, Time=0.05 sec\n",
      " ARIMA(1,1,0)(0,0,0)[0] intercept   : AIC=-549.587, Time=0.02 sec\n",
      " ARIMA(0,1,1)(0,0,0)[0] intercept   : AIC=-549.614, Time=0.11 sec\n",
      " ARIMA(0,1,0)(0,0,0)[0]             : AIC=-551.960, Time=0.06 sec\n",
      " ARIMA(1,1,2)(0,0,0)[0] intercept   : AIC=-549.386, Time=0.18 sec\n",
      " ARIMA(2,1,1)(0,0,0)[0] intercept   : AIC=-546.472, Time=0.25 sec\n",
      " ARIMA(3,1,2)(0,0,0)[0] intercept   : AIC=-550.937, Time=0.37 sec\n",
      " ARIMA(2,1,3)(0,0,0)[0] intercept   : AIC=-553.466, Time=0.16 sec\n",
      " ARIMA(1,1,1)(0,0,0)[0] intercept   : AIC=-547.128, Time=0.12 sec\n",
      " ARIMA(1,1,3)(0,0,0)[0] intercept   : AIC=-555.113, Time=0.13 sec\n",
      " ARIMA(0,1,3)(0,0,0)[0] intercept   : AIC=-551.807, Time=0.13 sec\n",
      " ARIMA(1,1,4)(0,0,0)[0] intercept   : AIC=-553.524, Time=0.36 sec\n",
      " ARIMA(0,1,2)(0,0,0)[0] intercept   : AIC=-547.606, Time=0.13 sec\n",
      " ARIMA(0,1,4)(0,0,0)[0] intercept   : AIC=-555.069, Time=0.16 sec\n",
      " ARIMA(2,1,4)(0,0,0)[0] intercept   : AIC=-551.269, Time=0.34 sec\n",
      " ARIMA(1,1,3)(0,0,0)[0]             : AIC=-556.344, Time=0.13 sec\n",
      " ARIMA(0,1,3)(0,0,0)[0]             : AIC=-552.609, Time=0.16 sec\n",
      " ARIMA(1,1,2)(0,0,0)[0]             : AIC=-550.521, Time=0.16 sec\n",
      " ARIMA(2,1,3)(0,0,0)[0]             : AIC=-554.763, Time=0.20 sec\n",
      " ARIMA(1,1,4)(0,0,0)[0]             : AIC=-554.739, Time=0.20 sec\n",
      " ARIMA(0,1,2)(0,0,0)[0]             : AIC=-548.334, Time=0.07 sec\n",
      " ARIMA(0,1,4)(0,0,0)[0]             : AIC=-556.124, Time=0.22 sec\n",
      " ARIMA(2,1,2)(0,0,0)[0]             : AIC=-555.365, Time=0.19 sec\n",
      " ARIMA(2,1,4)(0,0,0)[0]             : AIC=-552.432, Time=0.29 sec\n",
      "\n",
      "Best model:  ARIMA(1,1,3)(0,0,0)[0]          \n",
      "Total fit time: 5.039 seconds\n"
     ]
    }
   ],
   "source": [
    "from pmdarima import auto_arima\n",
    "model = auto_arima(train_log, trace = True, error_action = 'ignore', suppress_warnings = True)\n",
    "model.fit(train_log)\n",
    "predictions = model.predict(n_periods = len(test))\n",
    "predictions = pd.DataFrame(predictions,index = test_log.index,columns=['Prediction'])"
   ]
  },
  {
   "cell_type": "code",
   "execution_count": 30,
   "id": "32616a13",
   "metadata": {},
   "outputs": [
    {
     "data": {
      "text/plain": [
       "Text(0, 0.5, 'Actual Stock Price')"
      ]
     },
     "execution_count": 30,
     "metadata": {},
     "output_type": "execute_result"
    },
    {
     "data": {
      "image/png": "[encoded data removed]",
      "text/plain": [
       "<Figure size 640x480 with 1 Axes>"
      ]
     },
     "metadata": {},
     "output_type": "display_data"
    }
   ],
   "source": [
    "plt.plot(train_log, label='Train')\n",
    "plt.plot(test_log, label='Test')\n",
    "plt.plot(predictions, label='Prediction')\n",
    "plt.title('QMCI Stock Price Prediction')\n",
    "plt.xlabel('Time')\n",
    "plt.ylabel('Actual Stock Price')"
   ]
  },
  {
   "cell_type": "code",
   "execution_count": 31,
   "id": "9bfa4294",
   "metadata": {},
   "outputs": [
    {
     "name": "stdout",
     "output_type": "stream",
     "text": [
      "RMSE :  0.07603151002983054\n"
     ]
    }
   ],
   "source": [
    "rms = np.sqrt(mean_squared_error(test_log,predictions))\n",
    "print(\"RMSE : \", rms)"
   ]
  },
  {
   "cell_type": "code",
   "execution_count": 32,
   "id": "75b53617",
   "metadata": {},
   "outputs": [
    {
     "data": {
      "text/html": [
       "<div>\n",
       "<style scoped>\n",
       "    .dataframe tbody tr th:only-of-type {\n",
       "        vertical-align: middle;\n",
       "    }\n",
       "\n",
       "    .dataframe tbody tr th {\n",
       "        vertical-align: top;\n",
       "    }\n",
       "\n",
       "    .dataframe thead th {\n",
       "        text-align: right;\n",
       "    }\n",
       "</style>\n",
       "<table border=\"1\" class=\"dataframe\">\n",
       "  <thead>\n",
       "    <tr style=\"text-align: right;\">\n",
       "      <th></th>\n",
       "      <th>publish_date</th>\n",
       "      <th>headline_text</th>\n",
       "      <th>Subjectivity</th>\n",
       "      <th>Polarity</th>\n",
       "      <th>Compound</th>\n",
       "      <th>Negative</th>\n",
       "      <th>Neutral</th>\n",
       "      <th>Positive</th>\n",
       "    </tr>\n",
       "  </thead>\n",
       "  <tbody>\n",
       "    <tr>\n",
       "      <th>7417</th>\n",
       "      <td>2021-06-05</td>\n",
       "      <td>Horoscope Today     June       Check astrologi...</td>\n",
       "      <td>0.363601</td>\n",
       "      <td>0.045100</td>\n",
       "      <td>-0.9999</td>\n",
       "      <td>0.149</td>\n",
       "      <td>0.761</td>\n",
       "      <td>0.091</td>\n",
       "    </tr>\n",
       "    <tr>\n",
       "      <th>7418</th>\n",
       "      <td>2021-06-06</td>\n",
       "      <td>Man beaten to death for murder Rakshit Shetty ...</td>\n",
       "      <td>0.400750</td>\n",
       "      <td>0.019444</td>\n",
       "      <td>-0.9998</td>\n",
       "      <td>0.133</td>\n",
       "      <td>0.787</td>\n",
       "      <td>0.080</td>\n",
       "    </tr>\n",
       "    <tr>\n",
       "      <th>7419</th>\n",
       "      <td>2021-06-07</td>\n",
       "      <td>Expert approved techniques for creating natura...</td>\n",
       "      <td>0.355720</td>\n",
       "      <td>0.045619</td>\n",
       "      <td>-0.9999</td>\n",
       "      <td>0.150</td>\n",
       "      <td>0.760</td>\n",
       "      <td>0.089</td>\n",
       "    </tr>\n",
       "    <tr>\n",
       "      <th>7420</th>\n",
       "      <td>2021-06-08</td>\n",
       "      <td>Why some women feel guilty about premarital se...</td>\n",
       "      <td>0.383899</td>\n",
       "      <td>0.054865</td>\n",
       "      <td>-0.9998</td>\n",
       "      <td>0.122</td>\n",
       "      <td>0.802</td>\n",
       "      <td>0.076</td>\n",
       "    </tr>\n",
       "    <tr>\n",
       "      <th>7421</th>\n",
       "      <td>2021-06-09</td>\n",
       "      <td>Youth held for attempting to rob woman's ornam...</td>\n",
       "      <td>0.390521</td>\n",
       "      <td>0.049587</td>\n",
       "      <td>-0.9987</td>\n",
       "      <td>0.102</td>\n",
       "      <td>0.819</td>\n",
       "      <td>0.079</td>\n",
       "    </tr>\n",
       "    <tr>\n",
       "      <th>...</th>\n",
       "      <td>...</td>\n",
       "      <td>...</td>\n",
       "      <td>...</td>\n",
       "      <td>...</td>\n",
       "      <td>...</td>\n",
       "      <td>...</td>\n",
       "      <td>...</td>\n",
       "      <td>...</td>\n",
       "    </tr>\n",
       "    <tr>\n",
       "      <th>7711</th>\n",
       "      <td>2022-03-26</td>\n",
       "      <td>Mumbai celebrates World Theatre Day with speci...</td>\n",
       "      <td>0.380259</td>\n",
       "      <td>0.041225</td>\n",
       "      <td>-0.9999</td>\n",
       "      <td>0.168</td>\n",
       "      <td>0.753</td>\n",
       "      <td>0.079</td>\n",
       "    </tr>\n",
       "    <tr>\n",
       "      <th>7712</th>\n",
       "      <td>2022-03-27</td>\n",
       "      <td>Playing a dead man in Body God meant sitting i...</td>\n",
       "      <td>0.365123</td>\n",
       "      <td>0.034162</td>\n",
       "      <td>-0.9999</td>\n",
       "      <td>0.158</td>\n",
       "      <td>0.758</td>\n",
       "      <td>0.084</td>\n",
       "    </tr>\n",
       "    <tr>\n",
       "      <th>7713</th>\n",
       "      <td>2022-03-28</td>\n",
       "      <td>As fashion becomes democratic  demand for styl...</td>\n",
       "      <td>0.383007</td>\n",
       "      <td>0.058513</td>\n",
       "      <td>-0.9999</td>\n",
       "      <td>0.160</td>\n",
       "      <td>0.737</td>\n",
       "      <td>0.103</td>\n",
       "    </tr>\n",
       "    <tr>\n",
       "      <th>7714</th>\n",
       "      <td>2022-03-29</td>\n",
       "      <td>Bobby Deol  Like my dad  I hope to be working ...</td>\n",
       "      <td>0.403627</td>\n",
       "      <td>0.092144</td>\n",
       "      <td>-0.9999</td>\n",
       "      <td>0.159</td>\n",
       "      <td>0.755</td>\n",
       "      <td>0.086</td>\n",
       "    </tr>\n",
       "    <tr>\n",
       "      <th>7715</th>\n",
       "      <td>2022-03-30</td>\n",
       "      <td>I will not give in to trends  Dossmode The tim...</td>\n",
       "      <td>0.344136</td>\n",
       "      <td>0.039954</td>\n",
       "      <td>-0.9999</td>\n",
       "      <td>0.156</td>\n",
       "      <td>0.769</td>\n",
       "      <td>0.076</td>\n",
       "    </tr>\n",
       "  </tbody>\n",
       "</table>\n",
       "<p>299 rows × 8 columns</p>\n",
       "</div>"
      ],
      "text/plain": [
       "     publish_date                                      headline_text  \\\n",
       "7417   2021-06-05  Horoscope Today     June       Check astrologi...   \n",
       "7418   2021-06-06  Man beaten to death for murder Rakshit Shetty ...   \n",
       "7419   2021-06-07  Expert approved techniques for creating natura...   \n",
       "7420   2021-06-08  Why some women feel guilty about premarital se...   \n",
       "7421   2021-06-09  Youth held for attempting to rob woman's ornam...   \n",
       "...           ...                                                ...   \n",
       "7711   2022-03-26  Mumbai celebrates World Theatre Day with speci...   \n",
       "7712   2022-03-27  Playing a dead man in Body God meant sitting i...   \n",
       "7713   2022-03-28  As fashion becomes democratic  demand for styl...   \n",
       "7714   2022-03-29  Bobby Deol  Like my dad  I hope to be working ...   \n",
       "7715   2022-03-30  I will not give in to trends  Dossmode The tim...   \n",
       "\n",
       "      Subjectivity  Polarity  Compound  Negative  Neutral  Positive  \n",
       "7417      0.363601  0.045100   -0.9999     0.149    0.761     0.091  \n",
       "7418      0.400750  0.019444   -0.9998     0.133    0.787     0.080  \n",
       "7419      0.355720  0.045619   -0.9999     0.150    0.760     0.089  \n",
       "7420      0.383899  0.054865   -0.9998     0.122    0.802     0.076  \n",
       "7421      0.390521  0.049587   -0.9987     0.102    0.819     0.079  \n",
       "...            ...       ...       ...       ...      ...       ...  \n",
       "7711      0.380259  0.041225   -0.9999     0.168    0.753     0.079  \n",
       "7712      0.365123  0.034162   -0.9999     0.158    0.758     0.084  \n",
       "7713      0.383007  0.058513   -0.9999     0.160    0.737     0.103  \n",
       "7714      0.403627  0.092144   -0.9999     0.159    0.755     0.086  \n",
       "7715      0.344136  0.039954   -0.9999     0.156    0.769     0.076  \n",
       "\n",
       "[299 rows x 8 columns]"
      ]
     },
     "execution_count": 32,
     "metadata": {},
     "output_type": "execute_result"
    }
   ],
   "source": [
    "merge = news_data\n",
    "merge"
   ]
  },
  {
   "cell_type": "code",
   "execution_count": 33,
   "id": "de30bbeb",
   "metadata": {},
   "outputs": [
    {
     "data": {
      "text/html": [
       "<div>\n",
       "<style scoped>\n",
       "    .dataframe tbody tr th:only-of-type {\n",
       "        vertical-align: middle;\n",
       "    }\n",
       "\n",
       "    .dataframe tbody tr th {\n",
       "        vertical-align: top;\n",
       "    }\n",
       "\n",
       "    .dataframe thead th {\n",
       "        text-align: right;\n",
       "    }\n",
       "</style>\n",
       "<table border=\"1\" class=\"dataframe\">\n",
       "  <thead>\n",
       "    <tr style=\"text-align: right;\">\n",
       "      <th></th>\n",
       "      <th>Subjectivity</th>\n",
       "      <th>Polarity</th>\n",
       "      <th>Compound</th>\n",
       "      <th>Negative</th>\n",
       "      <th>Neutral</th>\n",
       "      <th>Positive</th>\n",
       "    </tr>\n",
       "  </thead>\n",
       "  <tbody>\n",
       "    <tr>\n",
       "      <th>7417</th>\n",
       "      <td>0.363601</td>\n",
       "      <td>0.045100</td>\n",
       "      <td>-0.9999</td>\n",
       "      <td>0.149</td>\n",
       "      <td>0.761</td>\n",
       "      <td>0.091</td>\n",
       "    </tr>\n",
       "    <tr>\n",
       "      <th>7418</th>\n",
       "      <td>0.400750</td>\n",
       "      <td>0.019444</td>\n",
       "      <td>-0.9998</td>\n",
       "      <td>0.133</td>\n",
       "      <td>0.787</td>\n",
       "      <td>0.080</td>\n",
       "    </tr>\n",
       "    <tr>\n",
       "      <th>7419</th>\n",
       "      <td>0.355720</td>\n",
       "      <td>0.045619</td>\n",
       "      <td>-0.9999</td>\n",
       "      <td>0.150</td>\n",
       "      <td>0.760</td>\n",
       "      <td>0.089</td>\n",
       "    </tr>\n",
       "    <tr>\n",
       "      <th>7420</th>\n",
       "      <td>0.383899</td>\n",
       "      <td>0.054865</td>\n",
       "      <td>-0.9998</td>\n",
       "      <td>0.122</td>\n",
       "      <td>0.802</td>\n",
       "      <td>0.076</td>\n",
       "    </tr>\n",
       "    <tr>\n",
       "      <th>7421</th>\n",
       "      <td>0.390521</td>\n",
       "      <td>0.049587</td>\n",
       "      <td>-0.9987</td>\n",
       "      <td>0.102</td>\n",
       "      <td>0.819</td>\n",
       "      <td>0.079</td>\n",
       "    </tr>\n",
       "    <tr>\n",
       "      <th>...</th>\n",
       "      <td>...</td>\n",
       "      <td>...</td>\n",
       "      <td>...</td>\n",
       "      <td>...</td>\n",
       "      <td>...</td>\n",
       "      <td>...</td>\n",
       "    </tr>\n",
       "    <tr>\n",
       "      <th>7711</th>\n",
       "      <td>0.380259</td>\n",
       "      <td>0.041225</td>\n",
       "      <td>-0.9999</td>\n",
       "      <td>0.168</td>\n",
       "      <td>0.753</td>\n",
       "      <td>0.079</td>\n",
       "    </tr>\n",
       "    <tr>\n",
       "      <th>7712</th>\n",
       "      <td>0.365123</td>\n",
       "      <td>0.034162</td>\n",
       "      <td>-0.9999</td>\n",
       "      <td>0.158</td>\n",
       "      <td>0.758</td>\n",
       "      <td>0.084</td>\n",
       "    </tr>\n",
       "    <tr>\n",
       "      <th>7713</th>\n",
       "      <td>0.383007</td>\n",
       "      <td>0.058513</td>\n",
       "      <td>-0.9999</td>\n",
       "      <td>0.160</td>\n",
       "      <td>0.737</td>\n",
       "      <td>0.103</td>\n",
       "    </tr>\n",
       "    <tr>\n",
       "      <th>7714</th>\n",
       "      <td>0.403627</td>\n",
       "      <td>0.092144</td>\n",
       "      <td>-0.9999</td>\n",
       "      <td>0.159</td>\n",
       "      <td>0.755</td>\n",
       "      <td>0.086</td>\n",
       "    </tr>\n",
       "    <tr>\n",
       "      <th>7715</th>\n",
       "      <td>0.344136</td>\n",
       "      <td>0.039954</td>\n",
       "      <td>-0.9999</td>\n",
       "      <td>0.156</td>\n",
       "      <td>0.769</td>\n",
       "      <td>0.076</td>\n",
       "    </tr>\n",
       "  </tbody>\n",
       "</table>\n",
       "<p>299 rows × 6 columns</p>\n",
       "</div>"
      ],
      "text/plain": [
       "      Subjectivity  Polarity  Compound  Negative  Neutral  Positive\n",
       "7417      0.363601  0.045100   -0.9999     0.149    0.761     0.091\n",
       "7418      0.400750  0.019444   -0.9998     0.133    0.787     0.080\n",
       "7419      0.355720  0.045619   -0.9999     0.150    0.760     0.089\n",
       "7420      0.383899  0.054865   -0.9998     0.122    0.802     0.076\n",
       "7421      0.390521  0.049587   -0.9987     0.102    0.819     0.079\n",
       "...            ...       ...       ...       ...      ...       ...\n",
       "7711      0.380259  0.041225   -0.9999     0.168    0.753     0.079\n",
       "7712      0.365123  0.034162   -0.9999     0.158    0.758     0.084\n",
       "7713      0.383007  0.058513   -0.9999     0.160    0.737     0.103\n",
       "7714      0.403627  0.092144   -0.9999     0.159    0.755     0.086\n",
       "7715      0.344136  0.039954   -0.9999     0.156    0.769     0.076\n",
       "\n",
       "[299 rows x 6 columns]"
      ]
     },
     "execution_count": 33,
     "metadata": {},
     "output_type": "execute_result"
    }
   ],
   "source": [
    "data = merge[['Subjectivity', 'Polarity', 'Compound', 'Negative', 'Neutral' ,'Positive']]\n",
    "data"
   ]
  },
  {
   "cell_type": "code",
   "execution_count": 34,
   "id": "06eb1fa7",
   "metadata": {},
   "outputs": [],
   "source": [
    "X = data[-146:]\n",
    "y = df_num['Close']"
   ]
  },
  {
   "cell_type": "code",
   "execution_count": 35,
   "id": "899d3ebd",
   "metadata": {},
   "outputs": [
    {
     "data": {
      "text/html": [
       "<div>\n",
       "<style scoped>\n",
       "    .dataframe tbody tr th:only-of-type {\n",
       "        vertical-align: middle;\n",
       "    }\n",
       "\n",
       "    .dataframe tbody tr th {\n",
       "        vertical-align: top;\n",
       "    }\n",
       "\n",
       "    .dataframe thead th {\n",
       "        text-align: right;\n",
       "    }\n",
       "</style>\n",
       "<table border=\"1\" class=\"dataframe\">\n",
       "  <thead>\n",
       "    <tr style=\"text-align: right;\">\n",
       "      <th></th>\n",
       "      <th>Subjectivity</th>\n",
       "      <th>Polarity</th>\n",
       "      <th>Compound</th>\n",
       "      <th>Negative</th>\n",
       "      <th>Neutral</th>\n",
       "      <th>Positive</th>\n",
       "    </tr>\n",
       "  </thead>\n",
       "  <tbody>\n",
       "    <tr>\n",
       "      <th>7570</th>\n",
       "      <td>0.411764</td>\n",
       "      <td>0.125908</td>\n",
       "      <td>-0.9944</td>\n",
       "      <td>0.116</td>\n",
       "      <td>0.778</td>\n",
       "      <td>0.106</td>\n",
       "    </tr>\n",
       "    <tr>\n",
       "      <th>7571</th>\n",
       "      <td>0.402466</td>\n",
       "      <td>0.059464</td>\n",
       "      <td>-0.9999</td>\n",
       "      <td>0.172</td>\n",
       "      <td>0.731</td>\n",
       "      <td>0.097</td>\n",
       "    </tr>\n",
       "    <tr>\n",
       "      <th>7572</th>\n",
       "      <td>0.394223</td>\n",
       "      <td>0.060453</td>\n",
       "      <td>-0.9999</td>\n",
       "      <td>0.169</td>\n",
       "      <td>0.745</td>\n",
       "      <td>0.086</td>\n",
       "    </tr>\n",
       "    <tr>\n",
       "      <th>7573</th>\n",
       "      <td>0.399316</td>\n",
       "      <td>0.081662</td>\n",
       "      <td>-0.9997</td>\n",
       "      <td>0.133</td>\n",
       "      <td>0.770</td>\n",
       "      <td>0.097</td>\n",
       "    </tr>\n",
       "    <tr>\n",
       "      <th>7574</th>\n",
       "      <td>0.377100</td>\n",
       "      <td>0.069880</td>\n",
       "      <td>-0.9999</td>\n",
       "      <td>0.134</td>\n",
       "      <td>0.790</td>\n",
       "      <td>0.076</td>\n",
       "    </tr>\n",
       "    <tr>\n",
       "      <th>...</th>\n",
       "      <td>...</td>\n",
       "      <td>...</td>\n",
       "      <td>...</td>\n",
       "      <td>...</td>\n",
       "      <td>...</td>\n",
       "      <td>...</td>\n",
       "    </tr>\n",
       "    <tr>\n",
       "      <th>7711</th>\n",
       "      <td>0.380259</td>\n",
       "      <td>0.041225</td>\n",
       "      <td>-0.9999</td>\n",
       "      <td>0.168</td>\n",
       "      <td>0.753</td>\n",
       "      <td>0.079</td>\n",
       "    </tr>\n",
       "    <tr>\n",
       "      <th>7712</th>\n",
       "      <td>0.365123</td>\n",
       "      <td>0.034162</td>\n",
       "      <td>-0.9999</td>\n",
       "      <td>0.158</td>\n",
       "      <td>0.758</td>\n",
       "      <td>0.084</td>\n",
       "    </tr>\n",
       "    <tr>\n",
       "      <th>7713</th>\n",
       "      <td>0.383007</td>\n",
       "      <td>0.058513</td>\n",
       "      <td>-0.9999</td>\n",
       "      <td>0.160</td>\n",
       "      <td>0.737</td>\n",
       "      <td>0.103</td>\n",
       "    </tr>\n",
       "    <tr>\n",
       "      <th>7714</th>\n",
       "      <td>0.403627</td>\n",
       "      <td>0.092144</td>\n",
       "      <td>-0.9999</td>\n",
       "      <td>0.159</td>\n",
       "      <td>0.755</td>\n",
       "      <td>0.086</td>\n",
       "    </tr>\n",
       "    <tr>\n",
       "      <th>7715</th>\n",
       "      <td>0.344136</td>\n",
       "      <td>0.039954</td>\n",
       "      <td>-0.9999</td>\n",
       "      <td>0.156</td>\n",
       "      <td>0.769</td>\n",
       "      <td>0.076</td>\n",
       "    </tr>\n",
       "  </tbody>\n",
       "</table>\n",
       "<p>146 rows × 6 columns</p>\n",
       "</div>"
      ],
      "text/plain": [
       "      Subjectivity  Polarity  Compound  Negative  Neutral  Positive\n",
       "7570      0.411764  0.125908   -0.9944     0.116    0.778     0.106\n",
       "7571      0.402466  0.059464   -0.9999     0.172    0.731     0.097\n",
       "7572      0.394223  0.060453   -0.9999     0.169    0.745     0.086\n",
       "7573      0.399316  0.081662   -0.9997     0.133    0.770     0.097\n",
       "7574      0.377100  0.069880   -0.9999     0.134    0.790     0.076\n",
       "...            ...       ...       ...       ...      ...       ...\n",
       "7711      0.380259  0.041225   -0.9999     0.168    0.753     0.079\n",
       "7712      0.365123  0.034162   -0.9999     0.158    0.758     0.084\n",
       "7713      0.383007  0.058513   -0.9999     0.160    0.737     0.103\n",
       "7714      0.403627  0.092144   -0.9999     0.159    0.755     0.086\n",
       "7715      0.344136  0.039954   -0.9999     0.156    0.769     0.076\n",
       "\n",
       "[146 rows x 6 columns]"
      ]
     },
     "execution_count": 35,
     "metadata": {},
     "output_type": "execute_result"
    }
   ],
   "source": [
    "X"
   ]
  },
  {
   "cell_type": "code",
   "execution_count": 36,
   "id": "915f4211",
   "metadata": {},
   "outputs": [
    {
     "data": {
      "text/plain": [
       "(116, 6)"
      ]
     },
     "execution_count": 36,
     "metadata": {},
     "output_type": "execute_result"
    }
   ],
   "source": [
    "from sklearn.model_selection import train_test_split\n",
    "\n",
    "x_train, x_test, y_train, y_test = train_test_split(X, y, test_size=0.2, random_state = 0)\n",
    "x_train.shape"
   ]
  },
  {
   "cell_type": "code",
   "execution_count": 37,
   "id": "b31e0894",
   "metadata": {},
   "outputs": [],
   "source": [
    "rf = RandomForestRegressor()\n",
    "rf.fit(x_train, y_train)\n",
    "prediction=rf.predict(x_test)"
   ]
  },
  {
   "cell_type": "code",
   "execution_count": 38,
   "id": "39c905d0",
   "metadata": {},
   "outputs": [
    {
     "name": "stdout",
     "output_type": "stream",
     "text": [
      "[64.5819002  70.68879969 67.6788001  71.41579974 68.08499976 66.01809983\n",
      " 72.02769999 73.28240065 70.72849895 68.55789911]\n",
      "7      75.199997\n",
      "24     73.000000\n",
      "27     72.599998\n",
      "119    67.269997\n",
      "142    60.279999\n",
      "51     71.750000\n",
      "43     72.059998\n",
      "22     72.680000\n",
      "112    67.570000\n",
      "26     72.699997\n",
      "Name: Close, dtype: float64\n",
      "Mean Squared error:  27.9715838674797\n"
     ]
    }
   ],
   "source": [
    "print(prediction[:10])\n",
    "print(y_test[:10])\n",
    "print('Mean Squared error: ',mean_squared_error(prediction,y_test))"
   ]
  },
  {
   "cell_type": "code",
   "execution_count": 39,
   "id": "38328487",
   "metadata": {},
   "outputs": [
    {
     "name": "stdout",
     "output_type": "stream",
     "text": [
      "Mean Squared error:  60.281565100672346\n"
     ]
    }
   ],
   "source": [
    "from sklearn.tree import DecisionTreeRegressor\n",
    "dec_tree = DecisionTreeRegressor()\n",
    "dec_tree.fit(x_train, y_train)\n",
    "predictions = dec_tree.predict(x_test)\n",
    "print('Mean Squared error: ',mean_squared_error(predictions,y_test))"
   ]
  },
  {
   "cell_type": "code",
   "execution_count": 40,
   "id": "a1c4bca9",
   "metadata": {},
   "outputs": [
    {
     "name": "stdout",
     "output_type": "stream",
     "text": [
      "Mean Squared error:  41.30858978887358\n"
     ]
    }
   ],
   "source": [
    "xgb = xgboost.XGBRegressor()\n",
    "xgb.fit(x_train, y_train)\n",
    "predictions = xgb.predict(x_test)\n",
    "print('Mean Squared error: ',mean_squared_error(predictions,y_test))"
   ]
  },
  {
   "cell_type": "code",
   "execution_count": 114,
   "id": "c1021d70",
   "metadata": {},
   "outputs": [],
   "source": [
    "from sklearn.neural_network import MLPRegressor"
   ]
  },
  {
   "cell_type": "code",
   "execution_count": 115,
   "id": "6b3e248d",
   "metadata": {},
   "outputs": [],
   "source": [
    "mlp_regressor = MLPRegressor(hidden_layer_sizes=(10, 10), max_iter=650, random_state=43)"
   ]
  },
  {
   "cell_type": "code",
   "execution_count": 116,
   "id": "3eac05da",
   "metadata": {},
   "outputs": [
    {
     "name": "stdout",
     "output_type": "stream",
     "text": [
      "Mean Squared Error: 37.433922411484104\n",
      "Root Mean Squared Error: 6.118326765667563\n"
     ]
    }
   ],
   "source": [
    "mlp_regressor.fit(x_train, y_train)\n",
    "\n",
    "# Make predictions on the test data\n",
    "y_pred = mlp_regressor.predict(x_test)\n",
    "\n",
    "# Calculate the Mean Squared Error (MSE) to evaluate the model's performance\n",
    "mse = mean_squared_error(y_test, y_pred)\n",
    "rmse=np.sqrt(mse)\n",
    "print(f\"Mean Squared Error: {mse}\")\n",
    "print(f\"Root Mean Squared Error: {rmse}\")"
   ]
  },
  {
   "cell_type": "code",
   "execution_count": 68,
   "id": "c4325963",
   "metadata": {},
   "outputs": [],
   "source": [
    "from keras.models import Sequential\n",
    "from keras.layers import Dense\n",
    "from keras.layers import LSTM,GRU"
   ]
  },
  {
   "cell_type": "code",
   "execution_count": 74,
   "id": "c1e9a13b",
   "metadata": {},
   "outputs": [
    {
     "name": "stdout",
     "output_type": "stream",
     "text": [
      "Model: \"sequential_7\"\n",
      "_________________________________________________________________\n",
      " Layer (type)                Output Shape              Param #   \n",
      "=================================================================\n",
      " lstm_6 (LSTM)               (None, 6, 50)             10400     \n",
      "                                                                 \n",
      " dense_7 (Dense)             (None, 6, 1)              51        \n",
      "                                                                 \n",
      "=================================================================\n",
      "Total params: 10451 (40.82 KB)\n",
      "Trainable params: 10451 (40.82 KB)\n",
      "Non-trainable params: 0 (0.00 Byte)\n",
      "_________________________________________________________________\n"
     ]
    }
   ],
   "source": [
    "model = Sequential()\n",
    "model.add(LSTM(50, input_shape=(6, 1), return_sequences=True))\n",
    "model.add(Dense(1))\n",
    "model.compile(optimizer='adam', loss='mse')\n",
    "model.summary()"
   ]
  },
  {
   "cell_type": "code",
   "execution_count": 75,
   "id": "db06b7bb",
   "metadata": {},
   "outputs": [
    {
     "name": "stdout",
     "output_type": "stream",
     "text": [
      "Epoch 1/10\n",
      "3/3 [==============================] - 2s 349ms/step - loss: 4746.7549 - val_loss: 4596.0093\n",
      "Epoch 2/10\n",
      "3/3 [==============================] - 0s 27ms/step - loss: 4744.0874 - val_loss: 4593.2671\n",
      "Epoch 3/10\n",
      "3/3 [==============================] - 0s 23ms/step - loss: 4741.2085 - val_loss: 4590.2134\n",
      "Epoch 4/10\n",
      "3/3 [==============================] - 0s 25ms/step - loss: 4737.9800 - val_loss: 4586.7280\n",
      "Epoch 5/10\n",
      "3/3 [==============================] - 0s 22ms/step - loss: 4734.2539 - val_loss: 4582.6846\n",
      "Epoch 6/10\n",
      "3/3 [==============================] - 0s 22ms/step - loss: 4729.9482 - val_loss: 4577.9233\n",
      "Epoch 7/10\n",
      "3/3 [==============================] - 0s 21ms/step - loss: 4724.8320 - val_loss: 4572.2441\n",
      "Epoch 8/10\n",
      "3/3 [==============================] - 0s 19ms/step - loss: 4718.6943 - val_loss: 4565.3765\n",
      "Epoch 9/10\n",
      "3/3 [==============================] - 0s 18ms/step - loss: 4711.2466 - val_loss: 4556.9482\n",
      "Epoch 10/10\n",
      "3/3 [==============================] - 0s 20ms/step - loss: 4702.0566 - val_loss: 4546.4458\n"
     ]
    },
    {
     "data": {
      "text/plain": [
       "<keras.src.callbacks.History at 0x194b212b1c0>"
      ]
     },
     "execution_count": 75,
     "metadata": {},
     "output_type": "execute_result"
    }
   ],
   "source": [
    "model.fit(x_train, y_train, epochs=10, batch_size=32, validation_split=0.2)"
   ]
  },
  {
   "cell_type": "code",
   "execution_count": 76,
   "id": "8ff88555",
   "metadata": {},
   "outputs": [
    {
     "name": "stdout",
     "output_type": "stream",
     "text": [
      "Model: \"sequential_7\"\n",
      "_________________________________________________________________\n",
      " Layer (type)                Output Shape              Param #   \n",
      "=================================================================\n",
      " lstm_6 (LSTM)               (None, 6, 50)             10400     \n",
      "                                                                 \n",
      " dense_7 (Dense)             (None, 6, 1)              51        \n",
      "                                                                 \n",
      "=================================================================\n",
      "Total params: 10451 (40.82 KB)\n",
      "Trainable params: 10451 (40.82 KB)\n",
      "Non-trainable params: 0 (0.00 Byte)\n",
      "_________________________________________________________________\n"
     ]
    }
   ],
   "source": [
    "model.compile(optimizer='adam', loss='mse')\n",
    "model.summary()"
   ]
  },
  {
   "cell_type": "code",
   "execution_count": 77,
   "id": "5a0a0164",
   "metadata": {},
   "outputs": [
    {
     "name": "stdout",
     "output_type": "stream",
     "text": [
      "1/1 [==============================] - 0s 406ms/step\n"
     ]
    }
   ],
   "source": [
    "y_predicted = model.predict(x_test)"
   ]
  },
  {
   "cell_type": "code",
   "execution_count": 78,
   "id": "62467997",
   "metadata": {},
   "outputs": [],
   "source": [
    "time_window = 10\n",
    "X_train_reshaped = []\n",
    "X_test_reshaped = []"
   ]
  },
  {
   "cell_type": "code",
   "execution_count": 79,
   "id": "9cf3b114",
   "metadata": {},
   "outputs": [],
   "source": [
    "for i in range(time_window, len(x_train)):\n",
    "    X_train_reshaped.append(x_train[i - time_window:i])\n",
    "for i in range(time_window, len(x_test)):\n",
    "    X_test_reshaped.append(x_test[i - time_window:i])"
   ]
  },
  {
   "cell_type": "code",
   "execution_count": 80,
   "id": "2f9d72b8",
   "metadata": {},
   "outputs": [],
   "source": [
    "X_train_reshaped, X_test_reshaped = np.array(X_train_reshaped), np.array(X_test_reshaped)"
   ]
  },
  {
   "cell_type": "code",
   "execution_count": 81,
   "id": "fe05fd9d",
   "metadata": {},
   "outputs": [],
   "source": [
    "model = Sequential()\n",
    "model.add(LSTM(15, activation='relu', input_shape=(X_train_reshaped.shape[1], X_train_reshaped.shape[2])))\n",
    "model.add(Dense(1))\n",
    "model.compile(optimizer='adam', loss='mean_squared_error')"
   ]
  },
  {
   "cell_type": "code",
   "execution_count": 82,
   "id": "b79a6a37",
   "metadata": {},
   "outputs": [
    {
     "name": "stdout",
     "output_type": "stream",
     "text": [
      "Epoch 1/50\n",
      "4/4 [==============================] - 1s 7ms/step - loss: 4710.5435\n",
      "Epoch 2/50\n",
      "4/4 [==============================] - 0s 6ms/step - loss: 4699.2212\n",
      "Epoch 3/50\n",
      "4/4 [==============================] - 0s 3ms/step - loss: 4687.7812\n",
      "Epoch 4/50\n",
      "4/4 [==============================] - 0s 6ms/step - loss: 4675.6333\n",
      "Epoch 5/50\n",
      "4/4 [==============================] - 0s 6ms/step - loss: 4662.2822\n",
      "Epoch 6/50\n",
      "4/4 [==============================] - 0s 5ms/step - loss: 4647.3599\n",
      "Epoch 7/50\n",
      "4/4 [==============================] - 0s 5ms/step - loss: 4630.1099\n",
      "Epoch 8/50\n",
      "4/4 [==============================] - 0s 3ms/step - loss: 4609.4443\n",
      "Epoch 9/50\n",
      "4/4 [==============================] - 0s 5ms/step - loss: 4583.9312\n",
      "Epoch 10/50\n",
      "4/4 [==============================] - 0s 6ms/step - loss: 4550.8970\n",
      "Epoch 11/50\n",
      "4/4 [==============================] - 0s 6ms/step - loss: 4505.5400\n",
      "Epoch 12/50\n",
      "4/4 [==============================] - 0s 5ms/step - loss: 4439.7793\n",
      "Epoch 13/50\n",
      "4/4 [==============================] - 0s 5ms/step - loss: 4335.1641\n",
      "Epoch 14/50\n",
      "4/4 [==============================] - 0s 6ms/step - loss: 4147.2417\n",
      "Epoch 15/50\n",
      "4/4 [==============================] - 0s 5ms/step - loss: 3781.9304\n",
      "Epoch 16/50\n",
      "4/4 [==============================] - 0s 6ms/step - loss: 3080.8865\n",
      "Epoch 17/50\n",
      "4/4 [==============================] - 0s 9ms/step - loss: 1884.8539\n",
      "Epoch 18/50\n",
      "4/4 [==============================] - 0s 8ms/step - loss: 435.7319\n",
      "Epoch 19/50\n",
      "4/4 [==============================] - 0s 6ms/step - loss: 339.0003\n",
      "Epoch 20/50\n",
      "4/4 [==============================] - 0s 5ms/step - loss: 373.5189\n",
      "Epoch 21/50\n",
      "4/4 [==============================] - 0s 9ms/step - loss: 51.2445\n",
      "Epoch 22/50\n",
      "4/4 [==============================] - 0s 8ms/step - loss: 173.3956\n",
      "Epoch 23/50\n",
      "4/4 [==============================] - 0s 9ms/step - loss: 170.2092\n",
      "Epoch 24/50\n",
      "4/4 [==============================] - 0s 6ms/step - loss: 60.4417\n",
      "Epoch 25/50\n",
      "4/4 [==============================] - 0s 5ms/step - loss: 42.8983\n",
      "Epoch 26/50\n",
      "4/4 [==============================] - 0s 10ms/step - loss: 68.5231\n",
      "Epoch 27/50\n",
      "4/4 [==============================] - 0s 5ms/step - loss: 40.9846\n",
      "Epoch 28/50\n",
      "4/4 [==============================] - 0s 5ms/step - loss: 33.6279\n",
      "Epoch 29/50\n",
      "4/4 [==============================] - 0s 5ms/step - loss: 39.6346\n",
      "Epoch 30/50\n",
      "4/4 [==============================] - 0s 5ms/step - loss: 34.4897\n",
      "Epoch 31/50\n",
      "4/4 [==============================] - 0s 6ms/step - loss: 30.8762\n",
      "Epoch 32/50\n",
      "4/4 [==============================] - 0s 11ms/step - loss: 32.4091\n",
      "Epoch 33/50\n",
      "4/4 [==============================] - 0s 8ms/step - loss: 31.1736\n",
      "Epoch 34/50\n",
      "4/4 [==============================] - 0s 8ms/step - loss: 31.0969\n",
      "Epoch 35/50\n",
      "4/4 [==============================] - 0s 8ms/step - loss: 31.3462\n",
      "Epoch 36/50\n",
      "4/4 [==============================] - 0s 7ms/step - loss: 30.7594\n",
      "Epoch 37/50\n",
      "4/4 [==============================] - 0s 7ms/step - loss: 30.8769\n",
      "Epoch 38/50\n",
      "4/4 [==============================] - 0s 10ms/step - loss: 30.9280\n",
      "Epoch 39/50\n",
      "4/4 [==============================] - 0s 9ms/step - loss: 30.4502\n",
      "Epoch 40/50\n",
      "4/4 [==============================] - 0s 9ms/step - loss: 31.6566\n",
      "Epoch 41/50\n",
      "4/4 [==============================] - 0s 5ms/step - loss: 30.7305\n",
      "Epoch 42/50\n",
      "4/4 [==============================] - 0s 6ms/step - loss: 30.5647\n",
      "Epoch 43/50\n",
      "4/4 [==============================] - 0s 8ms/step - loss: 31.1556\n",
      "Epoch 44/50\n",
      "4/4 [==============================] - 0s 9ms/step - loss: 30.7055\n",
      "Epoch 45/50\n",
      "4/4 [==============================] - 0s 5ms/step - loss: 30.6172\n",
      "Epoch 46/50\n",
      "4/4 [==============================] - 0s 6ms/step - loss: 30.9364\n",
      "Epoch 47/50\n",
      "4/4 [==============================] - 0s 8ms/step - loss: 30.9159\n",
      "Epoch 48/50\n",
      "4/4 [==============================] - 0s 5ms/step - loss: 30.6143\n",
      "Epoch 49/50\n",
      "4/4 [==============================] - 0s 8ms/step - loss: 30.5411\n",
      "Epoch 50/50\n",
      "4/4 [==============================] - 0s 8ms/step - loss: 30.7541\n"
     ]
    },
    {
     "data": {
      "text/plain": [
       "<keras.src.callbacks.History at 0x194b102b640>"
      ]
     },
     "execution_count": 82,
     "metadata": {},
     "output_type": "execute_result"
    }
   ],
   "source": [
    "model.fit(X_train_reshaped, y_train[time_window:], epochs=50, batch_size=32)"
   ]
  },
  {
   "cell_type": "code",
   "execution_count": 83,
   "id": "0d38f906",
   "metadata": {},
   "outputs": [
    {
     "name": "stdout",
     "output_type": "stream",
     "text": [
      "WARNING:tensorflow:5 out of the last 5 calls to <function Model.make_predict_function.<locals>.predict_function at 0x00000194ADC6BDC0> triggered tf.function retracing. Tracing is expensive and the excessive number of tracings could be due to (1) creating @tf.function repeatedly in a loop, (2) passing tensors with different shapes, (3) passing Python objects instead of tensors. For (1), please define your @tf.function outside of the loop. For (2), @tf.function has reduce_retracing=True option that can avoid unnecessary retracing. For (3), please refer to https://www.tensorflow.org/guide/function#controlling_retracing and https://www.tensorflow.org/api_docs/python/tf/function for  more details.\n",
      "1/1 [==============================] - 0s 128ms/step\n"
     ]
    }
   ],
   "source": [
    "predictions = model.predict(X_test_reshaped)"
   ]
  },
  {
   "cell_type": "code",
   "execution_count": 84,
   "id": "70e5d495",
   "metadata": {},
   "outputs": [
    {
     "data": {
      "text/plain": [
       "array([[68.823135],\n",
       "       [68.337395],\n",
       "       [68.01794 ],\n",
       "       [68.45653 ],\n",
       "       [68.76073 ],\n",
       "       [68.91291 ],\n",
       "       [68.29829 ],\n",
       "       [68.19129 ],\n",
       "       [68.39922 ],\n",
       "       [68.26926 ],\n",
       "       [68.36204 ],\n",
       "       [68.48374 ],\n",
       "       [68.503456],\n",
       "       [68.73091 ],\n",
       "       [68.92393 ],\n",
       "       [68.69607 ],\n",
       "       [68.658264],\n",
       "       [68.241005],\n",
       "       [68.21429 ],\n",
       "       [68.33799 ]], dtype=float32)"
      ]
     },
     "execution_count": 84,
     "metadata": {},
     "output_type": "execute_result"
    }
   ],
   "source": [
    "predictions"
   ]
  },
  {
   "cell_type": "code",
   "execution_count": 85,
   "id": "7e50c506",
   "metadata": {},
   "outputs": [
    {
     "name": "stdout",
     "output_type": "stream",
     "text": [
      "Mean Squared Error: 27.72002032556412\n",
      "Root Mean Squared Error: 5.264980562695756\n"
     ]
    }
   ],
   "source": [
    "mse = mean_squared_error(y_test[time_window:], predictions)\n",
    "rmse=np.sqrt(mse)\n",
    "print(f'Mean Squared Error: {mse}')\n",
    "print(f'Root Mean Squared Error: {rmse}')"
   ]
  },
  {
   "cell_type": "code",
   "execution_count": 86,
   "id": "953dd4af",
   "metadata": {},
   "outputs": [],
   "source": [
    "model1 = Sequential()\n",
    "model1.add(GRU(15, activation='relu', input_shape=(X_train_reshaped.shape[1], X_train_reshaped.shape[2])))\n",
    "model1.add(Dense(1))\n",
    "model1.compile(optimizer='adam', loss='mean_squared_error')"
   ]
  },
  {
   "cell_type": "code",
   "execution_count": 87,
   "id": "28f95942",
   "metadata": {
    "scrolled": true
   },
   "outputs": [
    {
     "name": "stdout",
     "output_type": "stream",
     "text": [
      "Epoch 1/50\n",
      "4/4 [==============================] - 1s 9ms/step - loss: 4673.9326\n",
      "Epoch 2/50\n",
      "4/4 [==============================] - 0s 4ms/step - loss: 4664.3999\n",
      "Epoch 3/50\n",
      "4/4 [==============================] - 0s 4ms/step - loss: 4654.7578\n",
      "Epoch 4/50\n",
      "4/4 [==============================] - 0s 5ms/step - loss: 4645.4624\n",
      "Epoch 5/50\n",
      "4/4 [==============================] - 0s 4ms/step - loss: 4636.1128\n",
      "Epoch 6/50\n",
      "4/4 [==============================] - 0s 4ms/step - loss: 4626.3789\n",
      "Epoch 7/50\n",
      "4/4 [==============================] - 0s 6ms/step - loss: 4616.3086\n",
      "Epoch 8/50\n",
      "4/4 [==============================] - 0s 6ms/step - loss: 4606.3955\n",
      "Epoch 9/50\n",
      "4/4 [==============================] - 0s 5ms/step - loss: 4596.1880\n",
      "Epoch 10/50\n",
      "4/4 [==============================] - 0s 4ms/step - loss: 4585.1206\n",
      "Epoch 11/50\n",
      "4/4 [==============================] - 0s 7ms/step - loss: 4572.9453\n",
      "Epoch 12/50\n",
      "4/4 [==============================] - 0s 5ms/step - loss: 4559.5459\n",
      "Epoch 13/50\n",
      "4/4 [==============================] - 0s 5ms/step - loss: 4544.5894\n",
      "Epoch 14/50\n",
      "4/4 [==============================] - 0s 3ms/step - loss: 4527.7593\n",
      "Epoch 15/50\n",
      "4/4 [==============================] - 0s 9ms/step - loss: 4508.5913\n",
      "Epoch 16/50\n",
      "4/4 [==============================] - 0s 10ms/step - loss: 4486.4878\n",
      "Epoch 17/50\n",
      "4/4 [==============================] - 0s 8ms/step - loss: 4460.6885\n",
      "Epoch 18/50\n",
      "4/4 [==============================] - 0s 6ms/step - loss: 4429.8330\n",
      "Epoch 19/50\n",
      "4/4 [==============================] - 0s 9ms/step - loss: 4392.1880\n",
      "Epoch 20/50\n",
      "4/4 [==============================] - 0s 8ms/step - loss: 4344.6143\n",
      "Epoch 21/50\n",
      "4/4 [==============================] - 0s 10ms/step - loss: 4281.2812\n",
      "Epoch 22/50\n",
      "4/4 [==============================] - 0s 6ms/step - loss: 4192.9907\n",
      "Epoch 23/50\n",
      "4/4 [==============================] - 0s 6ms/step - loss: 4061.0728\n",
      "Epoch 24/50\n",
      "4/4 [==============================] - 0s 9ms/step - loss: 3848.4817\n",
      "Epoch 25/50\n",
      "4/4 [==============================] - 0s 12ms/step - loss: 3488.7397\n",
      "Epoch 26/50\n",
      "4/4 [==============================] - 0s 5ms/step - loss: 2909.2983\n",
      "Epoch 27/50\n",
      "4/4 [==============================] - 0s 11ms/step - loss: 2097.0103\n",
      "Epoch 28/50\n",
      "4/4 [==============================] - 0s 12ms/step - loss: 1169.4285\n",
      "Epoch 29/50\n",
      "4/4 [==============================] - 0s 9ms/step - loss: 352.4424\n",
      "Epoch 30/50\n",
      "4/4 [==============================] - 0s 7ms/step - loss: 56.5825\n",
      "Epoch 31/50\n",
      "4/4 [==============================] - 0s 7ms/step - loss: 289.0488\n",
      "Epoch 32/50\n",
      "4/4 [==============================] - 0s 7ms/step - loss: 209.2147\n",
      "Epoch 33/50\n",
      "4/4 [==============================] - 0s 7ms/step - loss: 43.8774\n",
      "Epoch 34/50\n",
      "4/4 [==============================] - 0s 7ms/step - loss: 50.0709\n",
      "Epoch 35/50\n",
      "4/4 [==============================] - 0s 7ms/step - loss: 84.7513\n",
      "Epoch 36/50\n",
      "4/4 [==============================] - 0s 10ms/step - loss: 74.8058\n",
      "Epoch 37/50\n",
      "4/4 [==============================] - 0s 6ms/step - loss: 44.3018\n",
      "Epoch 38/50\n",
      "4/4 [==============================] - 0s 9ms/step - loss: 30.1075\n",
      "Epoch 39/50\n",
      "4/4 [==============================] - 0s 7ms/step - loss: 35.8748\n",
      "Epoch 40/50\n",
      "4/4 [==============================] - 0s 9ms/step - loss: 37.6401\n",
      "Epoch 41/50\n",
      "4/4 [==============================] - 0s 4ms/step - loss: 33.7834\n",
      "Epoch 42/50\n",
      "4/4 [==============================] - 0s 5ms/step - loss: 30.2848\n",
      "Epoch 43/50\n",
      "4/4 [==============================] - 0s 6ms/step - loss: 30.3655\n",
      "Epoch 44/50\n",
      "4/4 [==============================] - 0s 5ms/step - loss: 31.0624\n",
      "Epoch 45/50\n",
      "4/4 [==============================] - 0s 5ms/step - loss: 30.8438\n",
      "Epoch 46/50\n",
      "4/4 [==============================] - 0s 8ms/step - loss: 30.7268\n",
      "Epoch 47/50\n",
      "4/4 [==============================] - 0s 7ms/step - loss: 30.2899\n",
      "Epoch 48/50\n",
      "4/4 [==============================] - 0s 9ms/step - loss: 30.3419\n",
      "Epoch 49/50\n",
      "4/4 [==============================] - 0s 7ms/step - loss: 30.3113\n",
      "Epoch 50/50\n",
      "4/4 [==============================] - 0s 7ms/step - loss: 30.3751\n"
     ]
    },
    {
     "data": {
      "text/plain": [
       "<keras.src.callbacks.History at 0x194b66b7880>"
      ]
     },
     "execution_count": 87,
     "metadata": {},
     "output_type": "execute_result"
    }
   ],
   "source": [
    "model1.fit(X_train_reshaped, y_train[time_window:], epochs=50 , batch_size=32)"
   ]
  },
  {
   "cell_type": "code",
   "execution_count": 88,
   "id": "964a82d3",
   "metadata": {},
   "outputs": [
    {
     "name": "stdout",
     "output_type": "stream",
     "text": [
      "WARNING:tensorflow:6 out of the last 6 calls to <function Model.make_predict_function.<locals>.predict_function at 0x00000194B789CF70> triggered tf.function retracing. Tracing is expensive and the excessive number of tracings could be due to (1) creating @tf.function repeatedly in a loop, (2) passing tensors with different shapes, (3) passing Python objects instead of tensors. For (1), please define your @tf.function outside of the loop. For (2), @tf.function has reduce_retracing=True option that can avoid unnecessary retracing. For (3), please refer to https://www.tensorflow.org/guide/function#controlling_retracing and https://www.tensorflow.org/api_docs/python/tf/function for  more details.\n",
      "1/1 [==============================] - 0s 158ms/step\n"
     ]
    }
   ],
   "source": [
    "predictions = model1.predict(X_test_reshaped)"
   ]
  },
  {
   "cell_type": "code",
   "execution_count": 89,
   "id": "e0332ad8",
   "metadata": {
    "scrolled": true
   },
   "outputs": [
    {
     "name": "stdout",
     "output_type": "stream",
     "text": [
      "Mean Squared Error: 28.099891410684346\n",
      "Mean Squared Error: 5.300933069817459\n"
     ]
    }
   ],
   "source": [
    "mse = mean_squared_error(y_test[time_window:], predictions)\n",
    "rmse=np.sqrt(mse)\n",
    "print(f'Mean Squared Error: {mse}')\n",
    "print(f'Mean Squared Error: {rmse}')"
   ]
  },
  {
   "cell_type": "code",
   "execution_count": 99,
   "id": "f394b6cd",
   "metadata": {
    "scrolled": true
   },
   "outputs": [
    {
     "data": {
      "text/plain": [
       "40     74.309998\n",
       "78     63.509998\n",
       "130    59.099998\n",
       "62     65.470001\n",
       "71     65.099998\n",
       "91     71.720001\n",
       "16     73.650002\n",
       "54     70.430000\n",
       "98     68.930000\n",
       "8      74.089996\n",
       "89     70.589996\n",
       "37     76.680000\n",
       "116    67.519997\n",
       "84     65.070000\n",
       "144    61.820000\n",
       "33     78.400002\n",
       "143    60.270000\n",
       "90     71.330002\n",
       "83     64.709999\n",
       "105    68.680000\n",
       "Name: Close, dtype: float64"
      ]
     },
     "execution_count": 99,
     "metadata": {},
     "output_type": "execute_result"
    }
   ],
   "source": [
    "y_test[time_window:]"
   ]
  },
  {
   "cell_type": "code",
   "execution_count": 108,
   "id": "eaebc73b",
   "metadata": {},
   "outputs": [
    {
     "data": {
      "text/plain": [
       "20"
      ]
     },
     "execution_count": 108,
     "metadata": {},
     "output_type": "execute_result"
    }
   ],
   "source": [
    "len(y_test[time_window:])"
   ]
  }
 ],
 "metadata": {
  "kernelspec": {
   "display_name": "Python 3 (ipykernel)",
   "language": "python",
   "name": "python3"
  },
  "language_info": {
   "codemirror_mode": {
    "name": "ipython",
    "version": 3
   },
   "file_extension": ".py",
   "mimetype": "text/x-python",
   "name": "python",
   "nbconvert_exporter": "python",
   "pygments_lexer": "ipython3",
   "version": "3.11.5"
  }
 },
 "nbformat": 4,
 "nbformat_minor": 5
}
